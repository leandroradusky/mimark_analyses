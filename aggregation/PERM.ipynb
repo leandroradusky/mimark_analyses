{
 "cells": [
  {
   "cell_type": "code",
   "execution_count": 1,
   "metadata": {},
   "outputs": [
    {
     "name": "stdout",
     "output_type": "stream",
     "text": [
      "Defaulting to user installation because normal site-packages is not writeable\n",
      "Requirement already satisfied: nglview in /home/leandro/.local/lib/python3.8/site-packages (3.0.8)\n",
      "Requirement already satisfied: ipywidgets>=7 in /home/leandro/.local/lib/python3.8/site-packages (from nglview) (7.7.1)\n",
      "Requirement already satisfied: jupyterlab-widgets in /home/leandro/.local/lib/python3.8/site-packages (from nglview) (3.0.11)\n",
      "Requirement already satisfied: numpy in /home/leandro/.local/lib/python3.8/site-packages (from nglview) (1.24.4)\n",
      "Requirement already satisfied: ipykernel>=4.5.1 in /home/leandro/.local/lib/python3.8/site-packages (from ipywidgets>=7->nglview) (6.29.5)\n",
      "Requirement already satisfied: ipython-genutils~=0.2.0 in /home/leandro/.local/lib/python3.8/site-packages (from ipywidgets>=7->nglview) (0.2.0)\n",
      "Requirement already satisfied: traitlets>=4.3.1 in /home/leandro/.local/lib/python3.8/site-packages (from ipywidgets>=7->nglview) (5.14.3)\n",
      "Requirement already satisfied: widgetsnbextension~=3.6.0 in /home/leandro/.local/lib/python3.8/site-packages (from ipywidgets>=7->nglview) (3.6.7)\n",
      "Requirement already satisfied: ipython>=4.0.0 in /home/leandro/.local/lib/python3.8/site-packages (from ipywidgets>=7->nglview) (7.25.0)\n",
      "Requirement already satisfied: comm>=0.1.1 in /home/leandro/.local/lib/python3.8/site-packages (from ipykernel>=4.5.1->ipywidgets>=7->nglview) (0.2.2)\n",
      "Requirement already satisfied: debugpy>=1.6.5 in /home/leandro/.local/lib/python3.8/site-packages (from ipykernel>=4.5.1->ipywidgets>=7->nglview) (1.8.2)\n",
      "Requirement already satisfied: jupyter-client>=6.1.12 in /home/leandro/.local/lib/python3.8/site-packages (from ipykernel>=4.5.1->ipywidgets>=7->nglview) (8.6.2)\n",
      "Requirement already satisfied: jupyter-core!=5.0.*,>=4.12 in /home/leandro/.local/lib/python3.8/site-packages (from ipykernel>=4.5.1->ipywidgets>=7->nglview) (5.7.2)\n",
      "Requirement already satisfied: matplotlib-inline>=0.1 in /home/leandro/.local/lib/python3.8/site-packages (from ipykernel>=4.5.1->ipywidgets>=7->nglview) (0.1.2)\n",
      "Requirement already satisfied: nest-asyncio in /usr/local/lib/python3.8/dist-packages (from ipykernel>=4.5.1->ipywidgets>=7->nglview) (1.5.5)\n",
      "Requirement already satisfied: packaging in /home/leandro/.local/lib/python3.8/site-packages (from ipykernel>=4.5.1->ipywidgets>=7->nglview) (23.2)\n",
      "Requirement already satisfied: psutil in /usr/lib/python3/dist-packages (from ipykernel>=4.5.1->ipywidgets>=7->nglview) (5.5.1)\n",
      "Requirement already satisfied: pyzmq>=24 in /home/leandro/.local/lib/python3.8/site-packages (from ipykernel>=4.5.1->ipywidgets>=7->nglview) (26.0.3)\n",
      "Requirement already satisfied: tornado>=6.1 in /home/leandro/.local/lib/python3.8/site-packages (from ipykernel>=4.5.1->ipywidgets>=7->nglview) (6.4.1)\n",
      "Requirement already satisfied: setuptools>=18.5 in /home/leandro/.local/lib/python3.8/site-packages (from ipython>=4.0.0->ipywidgets>=7->nglview) (69.1.0)\n",
      "Requirement already satisfied: jedi>=0.16 in /home/leandro/.local/lib/python3.8/site-packages (from ipython>=4.0.0->ipywidgets>=7->nglview) (0.18.0)\n",
      "Requirement already satisfied: decorator in /home/leandro/.local/lib/python3.8/site-packages (from ipython>=4.0.0->ipywidgets>=7->nglview) (4.4.2)\n",
      "Requirement already satisfied: pickleshare in /home/leandro/.local/lib/python3.8/site-packages (from ipython>=4.0.0->ipywidgets>=7->nglview) (0.7.5)\n",
      "Requirement already satisfied: prompt-toolkit!=3.0.0,!=3.0.1,<3.1.0,>=2.0.0 in /home/leandro/.local/lib/python3.8/site-packages (from ipython>=4.0.0->ipywidgets>=7->nglview) (3.0.19)\n",
      "Requirement already satisfied: pygments in /home/leandro/.local/lib/python3.8/site-packages (from ipython>=4.0.0->ipywidgets>=7->nglview) (2.17.2)\n",
      "Requirement already satisfied: backcall in /home/leandro/.local/lib/python3.8/site-packages (from ipython>=4.0.0->ipywidgets>=7->nglview) (0.2.0)\n",
      "Requirement already satisfied: pexpect>4.3 in /usr/lib/python3/dist-packages (from ipython>=4.0.0->ipywidgets>=7->nglview) (4.6.0)\n",
      "Requirement already satisfied: notebook>=4.4.1 in /home/leandro/.local/lib/python3.8/site-packages (from widgetsnbextension~=3.6.0->ipywidgets>=7->nglview) (7.2.1)\n",
      "Requirement already satisfied: parso<0.9.0,>=0.8.0 in /home/leandro/.local/lib/python3.8/site-packages (from jedi>=0.16->ipython>=4.0.0->ipywidgets>=7->nglview) (0.8.2)\n",
      "Requirement already satisfied: importlib-metadata>=4.8.3 in /home/leandro/.local/lib/python3.8/site-packages (from jupyter-client>=6.1.12->ipykernel>=4.5.1->ipywidgets>=7->nglview) (8.0.0)\n",
      "Requirement already satisfied: python-dateutil>=2.8.2 in /usr/local/lib/python3.8/dist-packages (from jupyter-client>=6.1.12->ipykernel>=4.5.1->ipywidgets>=7->nglview) (2.8.2)\n",
      "Requirement already satisfied: platformdirs>=2.5 in /home/leandro/.local/lib/python3.8/site-packages (from jupyter-core!=5.0.*,>=4.12->ipykernel>=4.5.1->ipywidgets>=7->nglview) (4.2.0)\n",
      "Requirement already satisfied: jupyter-server<3,>=2.4.0 in /home/leandro/.local/lib/python3.8/site-packages (from notebook>=4.4.1->widgetsnbextension~=3.6.0->ipywidgets>=7->nglview) (2.14.2)\n",
      "Requirement already satisfied: jupyterlab-server<3,>=2.27.1 in /home/leandro/.local/lib/python3.8/site-packages (from notebook>=4.4.1->widgetsnbextension~=3.6.0->ipywidgets>=7->nglview) (2.27.3)\n",
      "Requirement already satisfied: jupyterlab<4.3,>=4.2.0 in /home/leandro/.local/lib/python3.8/site-packages (from notebook>=4.4.1->widgetsnbextension~=3.6.0->ipywidgets>=7->nglview) (4.2.3)\n",
      "Requirement already satisfied: notebook-shim<0.3,>=0.2 in /home/leandro/.local/lib/python3.8/site-packages (from notebook>=4.4.1->widgetsnbextension~=3.6.0->ipywidgets>=7->nglview) (0.2.4)\n",
      "Requirement already satisfied: wcwidth in /home/leandro/.local/lib/python3.8/site-packages (from prompt-toolkit!=3.0.0,!=3.0.1,<3.1.0,>=2.0.0->ipython>=4.0.0->ipywidgets>=7->nglview) (0.2.5)\n",
      "Requirement already satisfied: zipp>=0.5 in /home/leandro/.local/lib/python3.8/site-packages (from importlib-metadata>=4.8.3->jupyter-client>=6.1.12->ipykernel>=4.5.1->ipywidgets>=7->nglview) (3.8.1)\n",
      "Requirement already satisfied: anyio>=3.1.0 in /usr/local/lib/python3.8/dist-packages (from jupyter-server<3,>=2.4.0->notebook>=4.4.1->widgetsnbextension~=3.6.0->ipywidgets>=7->nglview) (3.3.4)\n",
      "Requirement already satisfied: argon2-cffi>=21.1 in /usr/local/lib/python3.8/dist-packages (from jupyter-server<3,>=2.4.0->notebook>=4.4.1->widgetsnbextension~=3.6.0->ipywidgets>=7->nglview) (21.3.0)\n",
      "Requirement already satisfied: jinja2>=3.0.3 in /home/leandro/.local/lib/python3.8/site-packages (from jupyter-server<3,>=2.4.0->notebook>=4.4.1->widgetsnbextension~=3.6.0->ipywidgets>=7->nglview) (3.1.4)\n",
      "Requirement already satisfied: jupyter-events>=0.9.0 in /home/leandro/.local/lib/python3.8/site-packages (from jupyter-server<3,>=2.4.0->notebook>=4.4.1->widgetsnbextension~=3.6.0->ipywidgets>=7->nglview) (0.10.0)\n",
      "Requirement already satisfied: jupyter-server-terminals>=0.4.4 in /home/leandro/.local/lib/python3.8/site-packages (from jupyter-server<3,>=2.4.0->notebook>=4.4.1->widgetsnbextension~=3.6.0->ipywidgets>=7->nglview) (0.5.3)\n",
      "Requirement already satisfied: nbconvert>=6.4.4 in /usr/local/lib/python3.8/dist-packages (from jupyter-server<3,>=2.4.0->notebook>=4.4.1->widgetsnbextension~=3.6.0->ipywidgets>=7->nglview) (6.5.0)\n",
      "Requirement already satisfied: nbformat>=5.3.0 in /usr/local/lib/python3.8/dist-packages (from jupyter-server<3,>=2.4.0->notebook>=4.4.1->widgetsnbextension~=3.6.0->ipywidgets>=7->nglview) (5.3.0)\n",
      "Requirement already satisfied: overrides>=5.0 in /home/leandro/.local/lib/python3.8/site-packages (from jupyter-server<3,>=2.4.0->notebook>=4.4.1->widgetsnbextension~=3.6.0->ipywidgets>=7->nglview) (7.7.0)\n",
      "Requirement already satisfied: prometheus-client>=0.9 in /usr/local/lib/python3.8/dist-packages (from jupyter-server<3,>=2.4.0->notebook>=4.4.1->widgetsnbextension~=3.6.0->ipywidgets>=7->nglview) (0.14.1)\n",
      "Requirement already satisfied: send2trash>=1.8.2 in /home/leandro/.local/lib/python3.8/site-packages (from jupyter-server<3,>=2.4.0->notebook>=4.4.1->widgetsnbextension~=3.6.0->ipywidgets>=7->nglview) (1.8.3)\n",
      "Requirement already satisfied: terminado>=0.8.3 in /usr/local/lib/python3.8/dist-packages (from jupyter-server<3,>=2.4.0->notebook>=4.4.1->widgetsnbextension~=3.6.0->ipywidgets>=7->nglview) (0.13.3)\n",
      "Requirement already satisfied: websocket-client>=1.7 in /home/leandro/.local/lib/python3.8/site-packages (from jupyter-server<3,>=2.4.0->notebook>=4.4.1->widgetsnbextension~=3.6.0->ipywidgets>=7->nglview) (1.8.0)\n",
      "Requirement already satisfied: async-lru>=1.0.0 in /home/leandro/.local/lib/python3.8/site-packages (from jupyterlab<4.3,>=4.2.0->notebook>=4.4.1->widgetsnbextension~=3.6.0->ipywidgets>=7->nglview) (2.0.4)\n",
      "Requirement already satisfied: httpx>=0.25.0 in /home/leandro/.local/lib/python3.8/site-packages (from jupyterlab<4.3,>=4.2.0->notebook>=4.4.1->widgetsnbextension~=3.6.0->ipywidgets>=7->nglview) (0.27.0)\n",
      "Requirement already satisfied: importlib-resources>=1.4 in /home/leandro/.local/lib/python3.8/site-packages (from jupyterlab<4.3,>=4.2.0->notebook>=4.4.1->widgetsnbextension~=3.6.0->ipywidgets>=7->nglview) (5.9.0)\n",
      "Requirement already satisfied: jupyter-lsp>=2.0.0 in /home/leandro/.local/lib/python3.8/site-packages (from jupyterlab<4.3,>=4.2.0->notebook>=4.4.1->widgetsnbextension~=3.6.0->ipywidgets>=7->nglview) (2.2.5)\n",
      "Requirement already satisfied: tomli>=1.2.2 in /home/leandro/.local/lib/python3.8/site-packages (from jupyterlab<4.3,>=4.2.0->notebook>=4.4.1->widgetsnbextension~=3.6.0->ipywidgets>=7->nglview) (2.0.1)\n",
      "Requirement already satisfied: babel>=2.10 in /home/leandro/.local/lib/python3.8/site-packages (from jupyterlab-server<3,>=2.27.1->notebook>=4.4.1->widgetsnbextension~=3.6.0->ipywidgets>=7->nglview) (2.15.0)\n",
      "Requirement already satisfied: json5>=0.9.0 in /home/leandro/.local/lib/python3.8/site-packages (from jupyterlab-server<3,>=2.27.1->notebook>=4.4.1->widgetsnbextension~=3.6.0->ipywidgets>=7->nglview) (0.9.25)\n",
      "Requirement already satisfied: jsonschema>=4.18.0 in /home/leandro/.local/lib/python3.8/site-packages (from jupyterlab-server<3,>=2.27.1->notebook>=4.4.1->widgetsnbextension~=3.6.0->ipywidgets>=7->nglview) (4.23.0)\n",
      "Requirement already satisfied: requests>=2.31 in /home/leandro/.local/lib/python3.8/site-packages (from jupyterlab-server<3,>=2.27.1->notebook>=4.4.1->widgetsnbextension~=3.6.0->ipywidgets>=7->nglview) (2.31.0)\n",
      "Requirement already satisfied: six>=1.5 in /home/leandro/.local/lib/python3.8/site-packages (from python-dateutil>=2.8.2->jupyter-client>=6.1.12->ipykernel>=4.5.1->ipywidgets>=7->nglview) (1.16.0)\n",
      "Requirement already satisfied: idna>=2.8 in /home/leandro/.local/lib/python3.8/site-packages (from anyio>=3.1.0->jupyter-server<3,>=2.4.0->notebook>=4.4.1->widgetsnbextension~=3.6.0->ipywidgets>=7->nglview) (3.6)\n",
      "Requirement already satisfied: sniffio>=1.1 in /home/leandro/.local/lib/python3.8/site-packages (from anyio>=3.1.0->jupyter-server<3,>=2.4.0->notebook>=4.4.1->widgetsnbextension~=3.6.0->ipywidgets>=7->nglview) (1.3.0)\n",
      "Requirement already satisfied: argon2-cffi-bindings in /usr/local/lib/python3.8/dist-packages (from argon2-cffi>=21.1->jupyter-server<3,>=2.4.0->notebook>=4.4.1->widgetsnbextension~=3.6.0->ipywidgets>=7->nglview) (21.2.0)\n",
      "Requirement already satisfied: typing-extensions>=4.0.0 in /home/leandro/.local/lib/python3.8/site-packages (from async-lru>=1.0.0->jupyterlab<4.3,>=4.2.0->notebook>=4.4.1->widgetsnbextension~=3.6.0->ipywidgets>=7->nglview) (4.9.0)\n",
      "Requirement already satisfied: pytz>=2015.7 in /home/leandro/.local/lib/python3.8/site-packages (from babel>=2.10->jupyterlab-server<3,>=2.27.1->notebook>=4.4.1->widgetsnbextension~=3.6.0->ipywidgets>=7->nglview) (2023.3)\n",
      "Requirement already satisfied: certifi in /home/leandro/.local/lib/python3.8/site-packages (from httpx>=0.25.0->jupyterlab<4.3,>=4.2.0->notebook>=4.4.1->widgetsnbextension~=3.6.0->ipywidgets>=7->nglview) (2024.2.2)\n",
      "Requirement already satisfied: httpcore==1.* in /home/leandro/.local/lib/python3.8/site-packages (from httpx>=0.25.0->jupyterlab<4.3,>=4.2.0->notebook>=4.4.1->widgetsnbextension~=3.6.0->ipywidgets>=7->nglview) (1.0.5)\n",
      "Requirement already satisfied: h11<0.15,>=0.13 in /home/leandro/.local/lib/python3.8/site-packages (from httpcore==1.*->httpx>=0.25.0->jupyterlab<4.3,>=4.2.0->notebook>=4.4.1->widgetsnbextension~=3.6.0->ipywidgets>=7->nglview) (0.14.0)\n",
      "Requirement already satisfied: MarkupSafe>=2.0 in /home/leandro/.local/lib/python3.8/site-packages (from jinja2>=3.0.3->jupyter-server<3,>=2.4.0->notebook>=4.4.1->widgetsnbextension~=3.6.0->ipywidgets>=7->nglview) (2.0.1)\n",
      "Requirement already satisfied: attrs>=22.2.0 in /home/leandro/.local/lib/python3.8/site-packages (from jsonschema>=4.18.0->jupyterlab-server<3,>=2.27.1->notebook>=4.4.1->widgetsnbextension~=3.6.0->ipywidgets>=7->nglview) (23.2.0)\n",
      "Requirement already satisfied: jsonschema-specifications>=2023.03.6 in /home/leandro/.local/lib/python3.8/site-packages (from jsonschema>=4.18.0->jupyterlab-server<3,>=2.27.1->notebook>=4.4.1->widgetsnbextension~=3.6.0->ipywidgets>=7->nglview) (2023.12.1)\n",
      "Requirement already satisfied: pkgutil-resolve-name>=1.3.10 in /home/leandro/.local/lib/python3.8/site-packages (from jsonschema>=4.18.0->jupyterlab-server<3,>=2.27.1->notebook>=4.4.1->widgetsnbextension~=3.6.0->ipywidgets>=7->nglview) (1.3.10)\n",
      "Requirement already satisfied: referencing>=0.28.4 in /home/leandro/.local/lib/python3.8/site-packages (from jsonschema>=4.18.0->jupyterlab-server<3,>=2.27.1->notebook>=4.4.1->widgetsnbextension~=3.6.0->ipywidgets>=7->nglview) (0.35.1)\n",
      "Requirement already satisfied: rpds-py>=0.7.1 in /home/leandro/.local/lib/python3.8/site-packages (from jsonschema>=4.18.0->jupyterlab-server<3,>=2.27.1->notebook>=4.4.1->widgetsnbextension~=3.6.0->ipywidgets>=7->nglview) (0.19.0)\n",
      "Requirement already satisfied: python-json-logger>=2.0.4 in /home/leandro/.local/lib/python3.8/site-packages (from jupyter-events>=0.9.0->jupyter-server<3,>=2.4.0->notebook>=4.4.1->widgetsnbextension~=3.6.0->ipywidgets>=7->nglview) (2.0.7)\n",
      "Requirement already satisfied: pyyaml>=5.3 in /home/leandro/.local/lib/python3.8/site-packages (from jupyter-events>=0.9.0->jupyter-server<3,>=2.4.0->notebook>=4.4.1->widgetsnbextension~=3.6.0->ipywidgets>=7->nglview) (6.0.1)\n",
      "Requirement already satisfied: rfc3339-validator in /home/leandro/.local/lib/python3.8/site-packages (from jupyter-events>=0.9.0->jupyter-server<3,>=2.4.0->notebook>=4.4.1->widgetsnbextension~=3.6.0->ipywidgets>=7->nglview) (0.1.4)\n",
      "Requirement already satisfied: rfc3986-validator>=0.1.1 in /home/leandro/.local/lib/python3.8/site-packages (from jupyter-events>=0.9.0->jupyter-server<3,>=2.4.0->notebook>=4.4.1->widgetsnbextension~=3.6.0->ipywidgets>=7->nglview) (0.1.1)\n",
      "Requirement already satisfied: beautifulsoup4 in /home/leandro/.local/lib/python3.8/site-packages (from nbconvert>=6.4.4->jupyter-server<3,>=2.4.0->notebook>=4.4.1->widgetsnbextension~=3.6.0->ipywidgets>=7->nglview) (4.12.3)\n",
      "Requirement already satisfied: bleach in /usr/local/lib/python3.8/dist-packages (from nbconvert>=6.4.4->jupyter-server<3,>=2.4.0->notebook>=4.4.1->widgetsnbextension~=3.6.0->ipywidgets>=7->nglview) (5.0.0)\n",
      "Requirement already satisfied: defusedxml in /usr/local/lib/python3.8/dist-packages (from nbconvert>=6.4.4->jupyter-server<3,>=2.4.0->notebook>=4.4.1->widgetsnbextension~=3.6.0->ipywidgets>=7->nglview) (0.7.1)\n",
      "Requirement already satisfied: entrypoints>=0.2.2 in /usr/lib/python3/dist-packages (from nbconvert>=6.4.4->jupyter-server<3,>=2.4.0->notebook>=4.4.1->widgetsnbextension~=3.6.0->ipywidgets>=7->nglview) (0.3)\n",
      "Requirement already satisfied: jupyterlab-pygments in /usr/local/lib/python3.8/dist-packages (from nbconvert>=6.4.4->jupyter-server<3,>=2.4.0->notebook>=4.4.1->widgetsnbextension~=3.6.0->ipywidgets>=7->nglview) (0.2.2)\n",
      "Requirement already satisfied: mistune<2,>=0.8.1 in /usr/local/lib/python3.8/dist-packages (from nbconvert>=6.4.4->jupyter-server<3,>=2.4.0->notebook>=4.4.1->widgetsnbextension~=3.6.0->ipywidgets>=7->nglview) (0.8.4)\n",
      "Requirement already satisfied: nbclient>=0.5.0 in /usr/local/lib/python3.8/dist-packages (from nbconvert>=6.4.4->jupyter-server<3,>=2.4.0->notebook>=4.4.1->widgetsnbextension~=3.6.0->ipywidgets>=7->nglview) (0.6.0)\n",
      "Requirement already satisfied: pandocfilters>=1.4.1 in /usr/local/lib/python3.8/dist-packages (from nbconvert>=6.4.4->jupyter-server<3,>=2.4.0->notebook>=4.4.1->widgetsnbextension~=3.6.0->ipywidgets>=7->nglview) (1.5.0)\n",
      "Requirement already satisfied: tinycss2 in /usr/lib/python3/dist-packages (from nbconvert>=6.4.4->jupyter-server<3,>=2.4.0->notebook>=4.4.1->widgetsnbextension~=3.6.0->ipywidgets>=7->nglview) (1.0.2)\n",
      "Requirement already satisfied: fastjsonschema in /usr/local/lib/python3.8/dist-packages (from nbformat>=5.3.0->jupyter-server<3,>=2.4.0->notebook>=4.4.1->widgetsnbextension~=3.6.0->ipywidgets>=7->nglview) (2.15.3)\n",
      "Requirement already satisfied: charset-normalizer<4,>=2 in /home/leandro/.local/lib/python3.8/site-packages (from requests>=2.31->jupyterlab-server<3,>=2.27.1->notebook>=4.4.1->widgetsnbextension~=3.6.0->ipywidgets>=7->nglview) (3.3.2)\n",
      "Requirement already satisfied: urllib3<3,>=1.21.1 in /home/leandro/.local/lib/python3.8/site-packages (from requests>=2.31->jupyterlab-server<3,>=2.27.1->notebook>=4.4.1->widgetsnbextension~=3.6.0->ipywidgets>=7->nglview) (1.26.18)\n",
      "Requirement already satisfied: ptyprocess in /usr/local/lib/python3.8/dist-packages (from terminado>=0.8.3->jupyter-server<3,>=2.4.0->notebook>=4.4.1->widgetsnbextension~=3.6.0->ipywidgets>=7->nglview) (0.7.0)\n",
      "Requirement already satisfied: fqdn in /home/leandro/.local/lib/python3.8/site-packages (from jsonschema[format-nongpl]>=4.18.0->jupyter-events>=0.9.0->jupyter-server<3,>=2.4.0->notebook>=4.4.1->widgetsnbextension~=3.6.0->ipywidgets>=7->nglview) (1.5.1)\n",
      "Requirement already satisfied: isoduration in /home/leandro/.local/lib/python3.8/site-packages (from jsonschema[format-nongpl]>=4.18.0->jupyter-events>=0.9.0->jupyter-server<3,>=2.4.0->notebook>=4.4.1->widgetsnbextension~=3.6.0->ipywidgets>=7->nglview) (20.11.0)\n",
      "Requirement already satisfied: jsonpointer>1.13 in /home/leandro/.local/lib/python3.8/site-packages (from jsonschema[format-nongpl]>=4.18.0->jupyter-events>=0.9.0->jupyter-server<3,>=2.4.0->notebook>=4.4.1->widgetsnbextension~=3.6.0->ipywidgets>=7->nglview) (3.0.0)\n",
      "Requirement already satisfied: uri-template in /home/leandro/.local/lib/python3.8/site-packages (from jsonschema[format-nongpl]>=4.18.0->jupyter-events>=0.9.0->jupyter-server<3,>=2.4.0->notebook>=4.4.1->widgetsnbextension~=3.6.0->ipywidgets>=7->nglview) (1.3.0)\n",
      "Requirement already satisfied: webcolors>=24.6.0 in /home/leandro/.local/lib/python3.8/site-packages (from jsonschema[format-nongpl]>=4.18.0->jupyter-events>=0.9.0->jupyter-server<3,>=2.4.0->notebook>=4.4.1->widgetsnbextension~=3.6.0->ipywidgets>=7->nglview) (24.6.0)\n",
      "Requirement already satisfied: cffi>=1.0.1 in /usr/local/lib/python3.8/dist-packages (from argon2-cffi-bindings->argon2-cffi>=21.1->jupyter-server<3,>=2.4.0->notebook>=4.4.1->widgetsnbextension~=3.6.0->ipywidgets>=7->nglview) (1.14.5)\n",
      "Requirement already satisfied: soupsieve>1.2 in /home/leandro/.local/lib/python3.8/site-packages (from beautifulsoup4->nbconvert>=6.4.4->jupyter-server<3,>=2.4.0->notebook>=4.4.1->widgetsnbextension~=3.6.0->ipywidgets>=7->nglview) (2.5)\n",
      "Requirement already satisfied: webencodings in /usr/lib/python3/dist-packages (from bleach->nbconvert>=6.4.4->jupyter-server<3,>=2.4.0->notebook>=4.4.1->widgetsnbextension~=3.6.0->ipywidgets>=7->nglview) (0.5.1)\n",
      "Requirement already satisfied: pycparser in /usr/local/lib/python3.8/dist-packages (from cffi>=1.0.1->argon2-cffi-bindings->argon2-cffi>=21.1->jupyter-server<3,>=2.4.0->notebook>=4.4.1->widgetsnbextension~=3.6.0->ipywidgets>=7->nglview) (2.20)\n",
      "Requirement already satisfied: arrow>=0.15.0 in /home/leandro/.local/lib/python3.8/site-packages (from isoduration->jsonschema[format-nongpl]>=4.18.0->jupyter-events>=0.9.0->jupyter-server<3,>=2.4.0->notebook>=4.4.1->widgetsnbextension~=3.6.0->ipywidgets>=7->nglview) (1.3.0)\n",
      "Requirement already satisfied: types-python-dateutil>=2.8.10 in /home/leandro/.local/lib/python3.8/site-packages (from arrow>=0.15.0->isoduration->jsonschema[format-nongpl]>=4.18.0->jupyter-events>=0.9.0->jupyter-server<3,>=2.4.0->notebook>=4.4.1->widgetsnbextension~=3.6.0->ipywidgets>=7->nglview) (2.9.0.20240316)\n",
      "\n",
      "\u001b[1m[\u001b[0m\u001b[34;49mnotice\u001b[0m\u001b[1;39;49m]\u001b[0m\u001b[39;49m A new release of pip is available: \u001b[0m\u001b[31;49m24.0\u001b[0m\u001b[39;49m -> \u001b[0m\u001b[32;49m24.1.2\u001b[0m\n",
      "\u001b[1m[\u001b[0m\u001b[34;49mnotice\u001b[0m\u001b[1;39;49m]\u001b[0m\u001b[39;49m To update, run: \u001b[0m\u001b[32;49mpip install --upgrade pip\u001b[0m\n",
      "Note: you may need to restart the kernel to use updated packages.\n"
     ]
    }
   ],
   "source": [
    "#%pip install nglview\n",
    "#%pip install nglview==3.0.8\n",
    "#%pip install -U ipywidgets==7.7.1\n",
    "#%pip install --upgrade\n",
    "#!jupyter nbextension enable --py widgetsnbextension\n"
   ]
  },
  {
   "cell_type": "markdown",
   "metadata": {},
   "source": [
    "**Note**: This is a SBG workspace dependent code, it won't work in other manchines. Please contact Leandro Radusky if you want to install the dependencies and run this script by yourself.\n",
    "\n",
    "Tested in python 3.8\n"
   ]
  },
  {
   "cell_type": "markdown",
   "metadata": {},
   "source": [
    "# PERM analysis\n",
    "\n",
    "Sample pipeline to study the stability, aggregability and other structural features of PERM protein. To be discussed and then replicated on the other biomarkers."
   ]
  },
  {
   "cell_type": "code",
   "execution_count": 2,
   "metadata": {},
   "outputs": [],
   "source": [
    "# Import the sbg workspace\n",
    "import sys\n",
    "sys.path.append('/home/leandro/Dropbox/workspacesbg/sbg/')"
   ]
  },
  {
   "cell_type": "code",
   "execution_count": 3,
   "metadata": {},
   "outputs": [],
   "source": [
    "# Imports\n",
    "from sbg.scripts.foldx.TangoHandler import TangoHandler\n",
    "from sbg.structure.Structure import Structure\n",
    "from sbg.structure.AlphaFoldHandler import AlphaFoldHandler\n",
    "from sbg.orf.Orf import OnlineOrf\n",
    "from sbg.orf.FastaHandler import FastaHandler\n",
    "from sbg.pdbtools.pdb_bfactor import pdbBfactor\n",
    "from sbg.common.FileHandler import FileHandler\n",
    "\n",
    "from pyfoldx.structure import Structure as PyFoldxStructure\n"
   ]
  },
  {
   "cell_type": "code",
   "execution_count": 4,
   "metadata": {},
   "outputs": [],
   "source": [
    "# Some constants\n",
    "PROTEIN_CODE = 'PERM'\n",
    "PERM_UNIPROT_ACCESION = 'P05164'\n",
    "MIMARK_ANTIGENS_SEQUENCES_PATH = './data/antigens.fasta'\n"
   ]
  },
  {
   "cell_type": "markdown",
   "metadata": {},
   "source": [
    "## Step 1: Compare the sequences of the MiMARK PERM antigen vs the UniProt entry"
   ]
  },
  {
   "cell_type": "code",
   "execution_count": 5,
   "metadata": {},
   "outputs": [],
   "source": [
    "# Get the uniprot object\n",
    "perm_up_obj = OnlineOrf(PERM_UNIPROT_ACCESION)"
   ]
  },
  {
   "cell_type": "code",
   "execution_count": 6,
   "metadata": {},
   "outputs": [
    {
     "data": {
      "text/plain": [
       "'MGVPFFSSLRCMVDLGPCWAGGLTAEMKLLLALAGLLAILATPQPSEGAAPAVLGEVDTSLVLSSMEEAKQLVDKAYKERRESIKQRLRSGSASPMELLSYFKQPVAATRTAVRAADYLHVALDLLERKLRSLWRRPFNVTDVLTPAQLNVLSKSSGCAYQDVGVTCPEQDKYRTITGMCNNRRSPTLGASNRAFVRWLPAEYEDGFSLPYGWTPGVKRNGFPVALARAVSNEIVRFPTDQLTPDQERSLMFMQWGQLLDHDLDFTPEPAARASFVTGVNCETSCVQQPPCFPLKIPPNDPRIKNQADCIPFFRSCPACPGSNITIRNQINALTSFVDASMVYGSEEPLARNLRNMSNQLGLLAVNQRFQDNGRALLPFDNLHDDPCLLTNRSARIPCFLAGDTRSSEMPELTSMHTLLLREHNRLATELKSLNPRWDGERLYQEARKIVGAMVQIITYRDYLPLVLGPTAMRKYLPTYRSYNDSVDPRIANVFTNAFRYGHTLIQPFMFRLDNRYQPMEPNPRVPLSRVFFASWRVVLEGGIDPILRGLMATPAKLNRQNQIAVDEIRERLFEQVMRIGLDLPALNMQRSRDHGLPGYNAWRRFCGLPQPETVGQLGTVLRNLKLARKLMEQYGTPNNIDIWMGGVSEPLKRKGRVGPLLACIIGTQFRKLRDGDRFWWENEGVFSMQQRQALAQISLPRIICDNTGITTVSKNNIFMSNSYPRDFVNCSTLPALNLASWREAS'"
      ]
     },
     "execution_count": 6,
     "metadata": {},
     "output_type": "execute_result"
    }
   ],
   "source": [
    "# Get the uniprot sequence\n",
    "perm_up_seq = perm_up_obj.orf.sequence.text\n",
    "perm_up_seq"
   ]
  },
  {
   "cell_type": "code",
   "execution_count": 7,
   "metadata": {},
   "outputs": [],
   "source": [
    "# Get the MiMARK antigen sequence\n",
    "fh = FastaHandler(MIMARK_ANTIGENS_SEQUENCES_PATH)"
   ]
  },
  {
   "cell_type": "code",
   "execution_count": 8,
   "metadata": {},
   "outputs": [
    {
     "data": {
      "text/plain": [
       "'MKWVTFISLLFLFSSAYSRGVFRREAHKSEIAHRFNDVGEEHFIGLVLITFSQYLQKAPYEEHAKLVKEVTDLAKACVADESAANCDKSLHDIFGDKICALPSLRDTYGDVADCCEKKEPERNECFLHHKDDKPDLPPFARPEADVLCKAFHDDEKAFFGHYLYEVARRHPYFYAPELLYYAQKYKAILTECCEAADKGACLTPKLDGGGGSGGGGSGGGASAAPAVLGEVDTSLVLSSMEEAKQLVDKAYKERRESIKQRLRSGSASPMELLSYFKQPVAATRTAVRAADYLHVALDLLERKLRSLWRRPFNVTDVLTPAQLNVLSKSSGCAYQDVGVTCPEQDKYRTITGMCNNRRSPTLGASNRAFVRWLPAEYEDGFSLPYGWTPGVKRNGFPVALARAVSNEIVRFPTDQLTPDQERSLMFMQWGQLLDHDLDFTPEPAARASFVTGVNCETSCVQQPPCFPLKIPPNDPRIKNQADCIPFFRSCPACPGSNITIRNQINALTSFVDASMVYGSEEPLARNLRNMSNQLGLLAVNQRFQDNGRALLPFDNLHDDPCLLTNRSARIPCFLAGDTRSSEMPELTSMHTLLLREHNRLATELKSLNPRWDGERLYQEARKIVGAMVQIITYRDYLPLVLGPTAMRKYLPTYRSYNDSVDPRIANVFTNAFRYGHTLIQPFMFRLDNRYQPMEPNPRVPLSRVFFASWRVVLEGGIDPILRGLMATPAKLNRQNQIAVDEIRERLFEQVMRIGLDLPALNMQRSRDHGLPGYNAWRRFCGLPQPETVGQLGTVLRNLKLARKLMEQYGTPNNIDIWMGGVSEPLKRKGRVGPLLACIIGTQFRKLRDGDRFWWENEGVFSMQQRQALAQISLPRIICDNTGITTVSKNNIFMSNSYPRDFVNCSTLPALNLASWREASGSGHHHHHH'"
      ]
     },
     "execution_count": 8,
     "metadata": {},
     "output_type": "execute_result"
    }
   ],
   "source": [
    "str(fh.orfs['PERM'].seq)"
   ]
  },
  {
   "cell_type": "code",
   "execution_count": 9,
   "metadata": {},
   "outputs": [
    {
     "name": "stderr",
     "output_type": "stream",
     "text": [
      "/home/leandro/.local/lib/python3.8/site-packages/Bio/pairwise2.py:278: BiopythonDeprecationWarning: Bio.pairwise2 has been deprecated, and we intend to remove it in a future release of Biopython. As an alternative, please consider using Bio.Align.PairwiseAligner as a replacement, and contact the Biopython developers if you still need the Bio.pairwise2 module.\n",
      "  warnings.warn(\n"
     ]
    }
   ],
   "source": [
    "# Align the two protein sequences using biopython pairwise2\n",
    "from Bio import pairwise2\n",
    "from Bio.pairwise2 import format_alignment\n",
    "\n",
    "alignments = pairwise2.align.globalxx(perm_up_seq, fh.orfs['PERM'].seq)"
   ]
  },
  {
   "cell_type": "code",
   "execution_count": 10,
   "metadata": {},
   "outputs": [
    {
     "name": "stdout",
     "output_type": "stream",
     "text": [
      "PERM Uniprot vs PERM MiMARK\n",
      "********************************************\n",
      "\n",
      "UniProt ->  MG--VP-F----F--SSL---RCM-V---------------DL-G-------------------P---------------\n",
      "MiMARK  ->  M-KWV-TFISLLFLFSS-AYSR--GVFRREAHKSEIAHRFND-VGEEHFIGLVLITFSQYLQKAPYEEHAKLVKEVTDLA\n",
      "\n",
      "UniProt ->  --CW-AG---------------G-----L-----T----A---EMKL---------L--------L---A------L--A\n",
      "MiMARK  ->  KAC-VA-DESAANCDKSLHDIFGDKICALPSLRDTYGDVADCCE-K-KEPERNECFLHHKDDKPDLPPFARPEADVLCKA\n",
      "\n",
      "UniProt ->  ---------G--L--------------L---A-----IL-----A-------TPQP-------SEG-------A-A-PAV\n",
      "MiMARK  ->  FHDDEKAFFGHYLYEVARRHPYFYAPELLYYAQKYKAILTECCEAADKGACLT--PKLDGGGGS-GGGGSGGGASAAPAV\n",
      "\n",
      "UniProt ->  LGEVDTSLVLSSMEEAKQLVDKAYKERRESIKQRLRSGSASPMELLSYFKQPVAATRTAVRAADYLHVALDLLERKLRSL\n",
      "MiMARK  ->  LGEVDTSLVLSSMEEAKQLVDKAYKERRESIKQRLRSGSASPMELLSYFKQPVAATRTAVRAADYLHVALDLLERKLRSL\n",
      "\n",
      "UniProt ->  WRRPFNVTDVLTPAQLNVLSKSSGCAYQDVGVTCPEQDKYRTITGMCNNRRSPTLGASNRAFVRWLPAEYEDGFSLPYGW\n",
      "MiMARK  ->  WRRPFNVTDVLTPAQLNVLSKSSGCAYQDVGVTCPEQDKYRTITGMCNNRRSPTLGASNRAFVRWLPAEYEDGFSLPYGW\n",
      "\n",
      "UniProt ->  TPGVKRNGFPVALARAVSNEIVRFPTDQLTPDQERSLMFMQWGQLLDHDLDFTPEPAARASFVTGVNCETSCVQQPPCFP\n",
      "MiMARK  ->  TPGVKRNGFPVALARAVSNEIVRFPTDQLTPDQERSLMFMQWGQLLDHDLDFTPEPAARASFVTGVNCETSCVQQPPCFP\n",
      "\n",
      "UniProt ->  LKIPPNDPRIKNQADCIPFFRSCPACPGSNITIRNQINALTSFVDASMVYGSEEPLARNLRNMSNQLGLLAVNQRFQDNG\n",
      "MiMARK  ->  LKIPPNDPRIKNQADCIPFFRSCPACPGSNITIRNQINALTSFVDASMVYGSEEPLARNLRNMSNQLGLLAVNQRFQDNG\n",
      "\n",
      "UniProt ->  RALLPFDNLHDDPCLLTNRSARIPCFLAGDTRSSEMPELTSMHTLLLREHNRLATELKSLNPRWDGERLYQEARKIVGAM\n",
      "MiMARK  ->  RALLPFDNLHDDPCLLTNRSARIPCFLAGDTRSSEMPELTSMHTLLLREHNRLATELKSLNPRWDGERLYQEARKIVGAM\n",
      "\n",
      "UniProt ->  VQIITYRDYLPLVLGPTAMRKYLPTYRSYNDSVDPRIANVFTNAFRYGHTLIQPFMFRLDNRYQPMEPNPRVPLSRVFFA\n",
      "MiMARK  ->  VQIITYRDYLPLVLGPTAMRKYLPTYRSYNDSVDPRIANVFTNAFRYGHTLIQPFMFRLDNRYQPMEPNPRVPLSRVFFA\n",
      "\n",
      "UniProt ->  SWRVVLEGGIDPILRGLMATPAKLNRQNQIAVDEIRERLFEQVMRIGLDLPALNMQRSRDHGLPGYNAWRRFCGLPQPET\n",
      "MiMARK  ->  SWRVVLEGGIDPILRGLMATPAKLNRQNQIAVDEIRERLFEQVMRIGLDLPALNMQRSRDHGLPGYNAWRRFCGLPQPET\n",
      "\n",
      "UniProt ->  VGQLGTVLRNLKLARKLMEQYGTPNNIDIWMGGVSEPLKRKGRVGPLLACIIGTQFRKLRDGDRFWWENEGVFSMQQRQA\n",
      "MiMARK  ->  VGQLGTVLRNLKLARKLMEQYGTPNNIDIWMGGVSEPLKRKGRVGPLLACIIGTQFRKLRDGDRFWWENEGVFSMQQRQA\n",
      "\n",
      "UniProt ->  LAQISLPRIICDNTGITTVSKNNIFMSNSYPRDFVNCSTLPALNLASWREAS---------\n",
      "MiMARK  ->  LAQISLPRIICDNTGITTVSKNNIFMSNSYPRDFVNCSTLPALNLASWREASGSGHHHHHH\n",
      "\n"
     ]
    }
   ],
   "source": [
    "# Display the best alignment nicely, indicating at the begining which protein is which\n",
    "print('PERM Uniprot vs PERM MiMARK')\n",
    "print(\"********************************************\")\n",
    "print()\n",
    "# print the alignment in several lines, 80 positions per line\n",
    "for i in range(0, len(alignments[0][0]), 80):\n",
    "    print(f\"UniProt -> \", alignments[0][0][i:i+80])\n",
    "    print(f\"MiMARK  -> \", alignments[0][1][i:i+80])\n",
    "    print()"
   ]
  },
  {
   "cell_type": "code",
   "execution_count": 11,
   "metadata": {},
   "outputs": [
    {
     "name": "stdout",
     "output_type": "stream",
     "text": [
      "Uniprot match start: 50 Uniprot match end: 745\n"
     ]
    }
   ],
   "source": [
    "# Clearly the longest match goes from PAVLGEVDT to PALNLASWREAS\n",
    "# Extract the Uniprot positions of this match for further structural analysis\n",
    "up_match_start = perm_up_seq.find('PAVLGEVDT')\n",
    "up_match_end = perm_up_seq.find('PALNLASWREAS') + len('PALNLASWREAS')\n",
    "\n",
    "print( f'Uniprot match start: {up_match_start} Uniprot match end: {up_match_end}')"
   ]
  },
  {
   "cell_type": "markdown",
   "metadata": {},
   "source": [
    "## Step 2: Computing protein structure features"
   ]
  },
  {
   "cell_type": "code",
   "execution_count": 12,
   "metadata": {},
   "outputs": [],
   "source": [
    "perm_pdb_structure = AlphaFoldHandler.get_model(PERM_UNIPROT_ACCESION)"
   ]
  },
  {
   "cell_type": "code",
   "execution_count": 13,
   "metadata": {},
   "outputs": [],
   "source": [
    "# Compute aggregability scores\n",
    "perm_agg_dict = TangoHandler.getAggregation(perm_pdb_structure,\"aggregation/\")"
   ]
  },
  {
   "cell_type": "code",
   "execution_count": 14,
   "metadata": {},
   "outputs": [],
   "source": [
    "# Map the aggregation scores to the structure\n",
    "perm_mapped_agg_file_lines = pdbBfactor(perm_pdb_structure.fileLines, perm_agg_dict[\"A\"])"
   ]
  },
  {
   "cell_type": "code",
   "execution_count": 15,
   "metadata": {},
   "outputs": [
    {
     "data": {
      "text/plain": [
       "True"
      ]
     },
     "execution_count": 15,
     "metadata": {},
     "output_type": "execute_result"
    }
   ],
   "source": [
    "FileHandler.writeLines(f'./data/{PERM_UNIPROT_ACCESION}_mapped_agg.pdb', perm_mapped_agg_file_lines)"
   ]
  },
  {
   "cell_type": "code",
   "execution_count": 16,
   "metadata": {},
   "outputs": [],
   "source": [
    "perm_pyfoldx_structure = PyFoldxStructure(PERM_UNIPROT_ACCESION, f'./data/{PERM_UNIPROT_ACCESION}_mapped_agg.pdb')"
   ]
  },
  {
   "cell_type": "code",
   "execution_count": 17,
   "metadata": {},
   "outputs": [
    {
     "name": "stdout",
     "output_type": "stream",
     "text": [
      "Performing Alanine Scan...\n",
      "cd ./.foldx_202471784520203556/; /home/leandro/Dropbox/raduspostdoc/code/foldxEnterprise/build/Release/foldx --command=AlaScan --pdb=tmp.pdb > /dev/null 2> /dev/null\n",
      "Alanine Scan finished.\n"
     ]
    }
   ],
   "source": [
    "perm_alascan_results = perm_pyfoldx_structure.alanineScan()"
   ]
  },
  {
   "cell_type": "code",
   "execution_count": 18,
   "metadata": {},
   "outputs": [
    {
     "data": {
      "text/html": [
       "<div>\n",
       "<style scoped>\n",
       "    .dataframe tbody tr th:only-of-type {\n",
       "        vertical-align: middle;\n",
       "    }\n",
       "\n",
       "    .dataframe tbody tr th {\n",
       "        vertical-align: top;\n",
       "    }\n",
       "\n",
       "    .dataframe thead th {\n",
       "        text-align: right;\n",
       "    }\n",
       "</style>\n",
       "<table border=\"1\" class=\"dataframe\">\n",
       "  <thead>\n",
       "    <tr style=\"text-align: right;\">\n",
       "      <th></th>\n",
       "      <th>ddG_ala</th>\n",
       "    </tr>\n",
       "    <tr>\n",
       "      <th>Residue</th>\n",
       "      <th></th>\n",
       "    </tr>\n",
       "  </thead>\n",
       "  <tbody>\n",
       "    <tr>\n",
       "      <th>MET_1</th>\n",
       "      <td>-0.0182932</td>\n",
       "    </tr>\n",
       "    <tr>\n",
       "      <th>GLY_2</th>\n",
       "      <td>3.18904</td>\n",
       "    </tr>\n",
       "    <tr>\n",
       "      <th>VAL_3</th>\n",
       "      <td>0.128108</td>\n",
       "    </tr>\n",
       "    <tr>\n",
       "      <th>PRO_4</th>\n",
       "      <td>-1.8469</td>\n",
       "    </tr>\n",
       "    <tr>\n",
       "      <th>PHE_5</th>\n",
       "      <td>-0.0133675</td>\n",
       "    </tr>\n",
       "    <tr>\n",
       "      <th>...</th>\n",
       "      <td>...</td>\n",
       "    </tr>\n",
       "    <tr>\n",
       "      <th>TRP_741</th>\n",
       "      <td>5.76942</td>\n",
       "    </tr>\n",
       "    <tr>\n",
       "      <th>ARG_742</th>\n",
       "      <td>-0.0577126</td>\n",
       "    </tr>\n",
       "    <tr>\n",
       "      <th>GLU_743</th>\n",
       "      <td>-1.29899</td>\n",
       "    </tr>\n",
       "    <tr>\n",
       "      <th>ALA_744</th>\n",
       "      <td>0</td>\n",
       "    </tr>\n",
       "    <tr>\n",
       "      <th>SER_745</th>\n",
       "      <td>-0.399032</td>\n",
       "    </tr>\n",
       "  </tbody>\n",
       "</table>\n",
       "<p>745 rows × 1 columns</p>\n",
       "</div>"
      ],
      "text/plain": [
       "            ddG_ala\n",
       "Residue            \n",
       "MET_1    -0.0182932\n",
       "GLY_2       3.18904\n",
       "VAL_3      0.128108\n",
       "PRO_4       -1.8469\n",
       "PHE_5    -0.0133675\n",
       "...             ...\n",
       "TRP_741     5.76942\n",
       "ARG_742  -0.0577126\n",
       "GLU_743    -1.29899\n",
       "ALA_744           0\n",
       "SER_745   -0.399032\n",
       "\n",
       "[745 rows x 1 columns]"
      ]
     },
     "execution_count": 18,
     "metadata": {},
     "output_type": "execute_result"
    }
   ],
   "source": [
    "perm_alascan_results"
   ]
  },
  {
   "cell_type": "code",
   "execution_count": 19,
   "metadata": {},
   "outputs": [],
   "source": [
    "# get a dict from the alascan results dataframe\n",
    "perm_alascan_dict = perm_alascan_results.to_dict()['ddG_ala']\n",
    "# Remove the res name and the underscore from the keys\n",
    "perm_alascan_dict = { k[4:] : v for k,v in perm_alascan_dict.items()} \n",
    "# Convert to float all the values, and normalize to a positive scale\n",
    "perm_alascan_dict = { k : float(v) for k,v in perm_alascan_dict.items()}\n",
    "# Round the values to 3 decimal places\n",
    "perm_alascan_dict = { k : round(v,3) for k,v in perm_alascan_dict.items()}\n",
    "perm_alascan_dict = { int(k) : str(v - min(perm_alascan_dict.values()))[0:5] for k,v in perm_alascan_dict.items()}\n"
   ]
  },
  {
   "cell_type": "code",
   "execution_count": 20,
   "metadata": {},
   "outputs": [],
   "source": [
    "perm_mapped_alascan_file_lines = pdbBfactor(perm_pdb_structure.fileLines, perm_alascan_dict)"
   ]
  },
  {
   "cell_type": "code",
   "execution_count": 21,
   "metadata": {},
   "outputs": [
    {
     "data": {
      "text/plain": [
       "True"
      ]
     },
     "execution_count": 21,
     "metadata": {},
     "output_type": "execute_result"
    }
   ],
   "source": [
    "FileHandler.writeLines(f'./data/{PERM_UNIPROT_ACCESION}_mapped_alascan.pdb', perm_mapped_alascan_file_lines)"
   ]
  },
  {
   "cell_type": "code",
   "execution_count": 22,
   "metadata": {},
   "outputs": [
    {
     "data": {
      "application/vnd.jupyter.widget-view+json": {
       "model_id": "8f557edd5f944a3a87a0ccf99504978e",
       "version_major": 2,
       "version_minor": 0
      },
      "text/plain": []
     },
     "metadata": {},
     "output_type": "display_data"
    },
    {
     "data": {
      "application/vnd.jupyter.widget-view+json": {
       "model_id": "67b53522ca864bf29f14a9c02e0c657a",
       "version_major": 2,
       "version_minor": 0
      },
      "text/plain": [
       "NGLWidget()"
      ]
     },
     "metadata": {},
     "output_type": "display_data"
    }
   ],
   "source": [
    "import nglview\n",
    "view = nglview.show_file(\"data/P05164_mapped_alascan.pdb\")\n",
    "view"
   ]
  },
  {
   "cell_type": "code",
   "execution_count": null,
   "metadata": {},
   "outputs": [],
   "source": []
  }
 ],
 "metadata": {
  "kernelspec": {
   "display_name": "Python 3",
   "language": "python",
   "name": "python3"
  },
  "language_info": {
   "codemirror_mode": {
    "name": "ipython",
    "version": 3
   },
   "file_extension": ".py",
   "mimetype": "text/x-python",
   "name": "python",
   "nbconvert_exporter": "python",
   "pygments_lexer": "ipython3",
   "version": "3.8.10"
  }
 },
 "nbformat": 4,
 "nbformat_minor": 2
}
