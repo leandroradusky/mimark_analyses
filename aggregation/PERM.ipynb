{
 "cells": [
  {
   "cell_type": "code",
   "execution_count": 1,
   "metadata": {},
   "outputs": [],
   "source": [
    "#%pip install nglview\n",
    "#%pip install nglview==3.0.8\n",
    "#%pip install -U ipywidgets==7.7.1\n",
    "#%pip install --upgrade\n",
    "#!jupyter nbextension enable --py widgetsnbextension\n"
   ]
  },
  {
   "cell_type": "markdown",
   "metadata": {},
   "source": [
    "**Note**: This is a SBG workspace dependent code, it won't work in other manchines. Please contact Leandro Radusky if you want to install the dependencies and run this script by yourself.\n",
    "\n",
    "Tested in python 3.8\n"
   ]
  },
  {
   "cell_type": "markdown",
   "metadata": {},
   "source": [
    "# PERM analysis\n",
    "\n",
    "Sample pipeline to study the stability, aggregability and other structural features of PERM protein. To be discussed and then replicated on the other biomarkers."
   ]
  },
  {
   "cell_type": "code",
   "execution_count": 2,
   "metadata": {},
   "outputs": [],
   "source": [
    "# Import the sbg workspace\n",
    "import sys\n",
    "sys.path.append('/home/leandro/Dropbox/workspacesbg/sbg/')"
   ]
  },
  {
   "cell_type": "code",
   "execution_count": 3,
   "metadata": {},
   "outputs": [],
   "source": [
    "# Imports\n",
    "from sbg.scripts.foldx.TangoHandler import TangoHandler\n",
    "from sbg.structure.Structure import Structure\n",
    "from sbg.structure.AlphaFoldHandler import AlphaFoldHandler\n",
    "from sbg.orf.Orf import OnlineOrf\n",
    "from sbg.orf.FastaHandler import FastaHandler\n",
    "from sbg.pdbtools.pdb_bfactor import pdbBfactor\n",
    "from sbg.common.FileHandler import FileHandler\n",
    "\n",
    "from pyfoldx.structure import Structure as PyFoldxStructure\n"
   ]
  },
  {
   "cell_type": "code",
   "execution_count": 4,
   "metadata": {},
   "outputs": [],
   "source": [
    "# Some constants\n",
    "PROTEIN_CODE = 'PERM'\n",
    "PERM_UNIPROT_ACCESION = 'P05164'\n",
    "MIMARK_ANTIGENS_SEQUENCES_PATH = './data/antigens.fasta'\n"
   ]
  },
  {
   "cell_type": "markdown",
   "metadata": {},
   "source": [
    "## Step 1: Compare the sequences of the MiMARK PERM antigen vs the UniProt entry"
   ]
  },
  {
   "cell_type": "code",
   "execution_count": 5,
   "metadata": {},
   "outputs": [],
   "source": [
    "# Get the uniprot object\n",
    "perm_up_obj = OnlineOrf(PERM_UNIPROT_ACCESION)"
   ]
  },
  {
   "cell_type": "code",
   "execution_count": 6,
   "metadata": {},
   "outputs": [
    {
     "data": {
      "text/plain": [
       "'MGVPFFSSLRCMVDLGPCWAGGLTAEMKLLLALAGLLAILATPQPSEGAAPAVLGEVDTSLVLSSMEEAKQLVDKAYKERRESIKQRLRSGSASPMELLSYFKQPVAATRTAVRAADYLHVALDLLERKLRSLWRRPFNVTDVLTPAQLNVLSKSSGCAYQDVGVTCPEQDKYRTITGMCNNRRSPTLGASNRAFVRWLPAEYEDGFSLPYGWTPGVKRNGFPVALARAVSNEIVRFPTDQLTPDQERSLMFMQWGQLLDHDLDFTPEPAARASFVTGVNCETSCVQQPPCFPLKIPPNDPRIKNQADCIPFFRSCPACPGSNITIRNQINALTSFVDASMVYGSEEPLARNLRNMSNQLGLLAVNQRFQDNGRALLPFDNLHDDPCLLTNRSARIPCFLAGDTRSSEMPELTSMHTLLLREHNRLATELKSLNPRWDGERLYQEARKIVGAMVQIITYRDYLPLVLGPTAMRKYLPTYRSYNDSVDPRIANVFTNAFRYGHTLIQPFMFRLDNRYQPMEPNPRVPLSRVFFASWRVVLEGGIDPILRGLMATPAKLNRQNQIAVDEIRERLFEQVMRIGLDLPALNMQRSRDHGLPGYNAWRRFCGLPQPETVGQLGTVLRNLKLARKLMEQYGTPNNIDIWMGGVSEPLKRKGRVGPLLACIIGTQFRKLRDGDRFWWENEGVFSMQQRQALAQISLPRIICDNTGITTVSKNNIFMSNSYPRDFVNCSTLPALNLASWREAS'"
      ]
     },
     "execution_count": 6,
     "metadata": {},
     "output_type": "execute_result"
    }
   ],
   "source": [
    "# Get the uniprot sequence\n",
    "perm_up_seq = perm_up_obj.orf.sequence.text\n",
    "perm_up_seq"
   ]
  },
  {
   "cell_type": "code",
   "execution_count": 7,
   "metadata": {},
   "outputs": [],
   "source": [
    "# Get the MiMARK antigen sequence\n",
    "fh = FastaHandler(MIMARK_ANTIGENS_SEQUENCES_PATH)"
   ]
  },
  {
   "cell_type": "code",
   "execution_count": 8,
   "metadata": {},
   "outputs": [
    {
     "data": {
      "text/plain": [
       "'MKWVTFISLLFLFSSAYSRGVFRREAHKSEIAHRFNDVGEEHFIGLVLITFSQYLQKAPYEEHAKLVKEVTDLAKACVADESAANCDKSLHDIFGDKICALPSLRDTYGDVADCCEKKEPERNECFLHHKDDKPDLPPFARPEADVLCKAFHDDEKAFFGHYLYEVARRHPYFYAPELLYYAQKYKAILTECCEAADKGACLTPKLDGGGGSGGGGSGGGASAAPAVLGEVDTSLVLSSMEEAKQLVDKAYKERRESIKQRLRSGSASPMELLSYFKQPVAATRTAVRAADYLHVALDLLERKLRSLWRRPFNVTDVLTPAQLNVLSKSSGCAYQDVGVTCPEQDKYRTITGMCNNRRSPTLGASNRAFVRWLPAEYEDGFSLPYGWTPGVKRNGFPVALARAVSNEIVRFPTDQLTPDQERSLMFMQWGQLLDHDLDFTPEPAARASFVTGVNCETSCVQQPPCFPLKIPPNDPRIKNQADCIPFFRSCPACPGSNITIRNQINALTSFVDASMVYGSEEPLARNLRNMSNQLGLLAVNQRFQDNGRALLPFDNLHDDPCLLTNRSARIPCFLAGDTRSSEMPELTSMHTLLLREHNRLATELKSLNPRWDGERLYQEARKIVGAMVQIITYRDYLPLVLGPTAMRKYLPTYRSYNDSVDPRIANVFTNAFRYGHTLIQPFMFRLDNRYQPMEPNPRVPLSRVFFASWRVVLEGGIDPILRGLMATPAKLNRQNQIAVDEIRERLFEQVMRIGLDLPALNMQRSRDHGLPGYNAWRRFCGLPQPETVGQLGTVLRNLKLARKLMEQYGTPNNIDIWMGGVSEPLKRKGRVGPLLACIIGTQFRKLRDGDRFWWENEGVFSMQQRQALAQISLPRIICDNTGITTVSKNNIFMSNSYPRDFVNCSTLPALNLASWREASGSGHHHHHH'"
      ]
     },
     "execution_count": 8,
     "metadata": {},
     "output_type": "execute_result"
    }
   ],
   "source": [
    "str(fh.orfs['PERM'].seq)"
   ]
  },
  {
   "cell_type": "code",
   "execution_count": 9,
   "metadata": {},
   "outputs": [
    {
     "name": "stderr",
     "output_type": "stream",
     "text": [
      "/home/leandro/.local/lib/python3.8/site-packages/Bio/pairwise2.py:278: BiopythonDeprecationWarning: Bio.pairwise2 has been deprecated, and we intend to remove it in a future release of Biopython. As an alternative, please consider using Bio.Align.PairwiseAligner as a replacement, and contact the Biopython developers if you still need the Bio.pairwise2 module.\n",
      "  warnings.warn(\n"
     ]
    }
   ],
   "source": [
    "# Align the two protein sequences using biopython pairwise2\n",
    "from Bio import pairwise2\n",
    "from Bio.pairwise2 import format_alignment\n",
    "\n",
    "alignments = pairwise2.align.globalxx(perm_up_seq, fh.orfs['PERM'].seq)"
   ]
  },
  {
   "cell_type": "code",
   "execution_count": 10,
   "metadata": {},
   "outputs": [
    {
     "name": "stdout",
     "output_type": "stream",
     "text": [
      "PERM Uniprot vs PERM MiMARK\n",
      "********************************************\n",
      "\n",
      "UniProt ->  MG--VP-F----F--SSL---RCM-V---------------DL-G-------------------P---------------\n",
      "MiMARK  ->  M-KWV-TFISLLFLFSS-AYSR--GVFRREAHKSEIAHRFND-VGEEHFIGLVLITFSQYLQKAPYEEHAKLVKEVTDLA\n",
      "\n",
      "UniProt ->  --CW-AG---------------G-----L-----T----A---EMKL---------L--------L---A------L--A\n",
      "MiMARK  ->  KAC-VA-DESAANCDKSLHDIFGDKICALPSLRDTYGDVADCCE-K-KEPERNECFLHHKDDKPDLPPFARPEADVLCKA\n",
      "\n",
      "UniProt ->  ---------G--L--------------L---A-----IL-----A-------TPQP-------SEG-------A-A-PAV\n",
      "MiMARK  ->  FHDDEKAFFGHYLYEVARRHPYFYAPELLYYAQKYKAILTECCEAADKGACLT--PKLDGGGGS-GGGGSGGGASAAPAV\n",
      "\n",
      "UniProt ->  LGEVDTSLVLSSMEEAKQLVDKAYKERRESIKQRLRSGSASPMELLSYFKQPVAATRTAVRAADYLHVALDLLERKLRSL\n",
      "MiMARK  ->  LGEVDTSLVLSSMEEAKQLVDKAYKERRESIKQRLRSGSASPMELLSYFKQPVAATRTAVRAADYLHVALDLLERKLRSL\n",
      "\n",
      "UniProt ->  WRRPFNVTDVLTPAQLNVLSKSSGCAYQDVGVTCPEQDKYRTITGMCNNRRSPTLGASNRAFVRWLPAEYEDGFSLPYGW\n",
      "MiMARK  ->  WRRPFNVTDVLTPAQLNVLSKSSGCAYQDVGVTCPEQDKYRTITGMCNNRRSPTLGASNRAFVRWLPAEYEDGFSLPYGW\n",
      "\n",
      "UniProt ->  TPGVKRNGFPVALARAVSNEIVRFPTDQLTPDQERSLMFMQWGQLLDHDLDFTPEPAARASFVTGVNCETSCVQQPPCFP\n",
      "MiMARK  ->  TPGVKRNGFPVALARAVSNEIVRFPTDQLTPDQERSLMFMQWGQLLDHDLDFTPEPAARASFVTGVNCETSCVQQPPCFP\n",
      "\n",
      "UniProt ->  LKIPPNDPRIKNQADCIPFFRSCPACPGSNITIRNQINALTSFVDASMVYGSEEPLARNLRNMSNQLGLLAVNQRFQDNG\n",
      "MiMARK  ->  LKIPPNDPRIKNQADCIPFFRSCPACPGSNITIRNQINALTSFVDASMVYGSEEPLARNLRNMSNQLGLLAVNQRFQDNG\n",
      "\n",
      "UniProt ->  RALLPFDNLHDDPCLLTNRSARIPCFLAGDTRSSEMPELTSMHTLLLREHNRLATELKSLNPRWDGERLYQEARKIVGAM\n",
      "MiMARK  ->  RALLPFDNLHDDPCLLTNRSARIPCFLAGDTRSSEMPELTSMHTLLLREHNRLATELKSLNPRWDGERLYQEARKIVGAM\n",
      "\n",
      "UniProt ->  VQIITYRDYLPLVLGPTAMRKYLPTYRSYNDSVDPRIANVFTNAFRYGHTLIQPFMFRLDNRYQPMEPNPRVPLSRVFFA\n",
      "MiMARK  ->  VQIITYRDYLPLVLGPTAMRKYLPTYRSYNDSVDPRIANVFTNAFRYGHTLIQPFMFRLDNRYQPMEPNPRVPLSRVFFA\n",
      "\n",
      "UniProt ->  SWRVVLEGGIDPILRGLMATPAKLNRQNQIAVDEIRERLFEQVMRIGLDLPALNMQRSRDHGLPGYNAWRRFCGLPQPET\n",
      "MiMARK  ->  SWRVVLEGGIDPILRGLMATPAKLNRQNQIAVDEIRERLFEQVMRIGLDLPALNMQRSRDHGLPGYNAWRRFCGLPQPET\n",
      "\n",
      "UniProt ->  VGQLGTVLRNLKLARKLMEQYGTPNNIDIWMGGVSEPLKRKGRVGPLLACIIGTQFRKLRDGDRFWWENEGVFSMQQRQA\n",
      "MiMARK  ->  VGQLGTVLRNLKLARKLMEQYGTPNNIDIWMGGVSEPLKRKGRVGPLLACIIGTQFRKLRDGDRFWWENEGVFSMQQRQA\n",
      "\n",
      "UniProt ->  LAQISLPRIICDNTGITTVSKNNIFMSNSYPRDFVNCSTLPALNLASWREAS---------\n",
      "MiMARK  ->  LAQISLPRIICDNTGITTVSKNNIFMSNSYPRDFVNCSTLPALNLASWREASGSGHHHHHH\n",
      "\n"
     ]
    }
   ],
   "source": [
    "# Display the best alignment nicely, indicating at the begining which protein is which\n",
    "print('PERM Uniprot vs PERM MiMARK')\n",
    "print(\"********************************************\")\n",
    "print()\n",
    "# print the alignment in several lines, 80 positions per line\n",
    "for i in range(0, len(alignments[0][0]), 80):\n",
    "    print(f\"UniProt -> \", alignments[0][0][i:i+80])\n",
    "    print(f\"MiMARK  -> \", alignments[0][1][i:i+80])\n",
    "    print()"
   ]
  },
  {
   "cell_type": "code",
   "execution_count": 11,
   "metadata": {},
   "outputs": [
    {
     "name": "stdout",
     "output_type": "stream",
     "text": [
      "Uniprot match start: 50 Uniprot match end: 745\n"
     ]
    }
   ],
   "source": [
    "# Clearly the longest match goes from PAVLGEVDT to PALNLASWREAS\n",
    "# Extract the Uniprot positions of this match for further structural analysis\n",
    "up_match_start = perm_up_seq.find('PAVLGEVDT')\n",
    "up_match_end = perm_up_seq.find('PALNLASWREAS') + len('PALNLASWREAS')\n",
    "\n",
    "print( f'Uniprot match start: {up_match_start} Uniprot match end: {up_match_end}')"
   ]
  },
  {
   "cell_type": "markdown",
   "metadata": {},
   "source": [
    "## Step 2: Computing protein structure features"
   ]
  },
  {
   "cell_type": "code",
   "execution_count": 12,
   "metadata": {},
   "outputs": [],
   "source": [
    "perm_pdb_structure = AlphaFoldHandler.get_model(PERM_UNIPROT_ACCESION)"
   ]
  },
  {
   "cell_type": "code",
   "execution_count": 13,
   "metadata": {},
   "outputs": [],
   "source": [
    "# Compute aggregability scores\n",
    "perm_agg_dict = TangoHandler.getAggregation(perm_pdb_structure,\"aggregation/\")"
   ]
  },
  {
   "cell_type": "code",
   "execution_count": 14,
   "metadata": {},
   "outputs": [],
   "source": [
    "# Map the aggregation scores to the structure\n",
    "perm_mapped_agg_file_lines = pdbBfactor(perm_pdb_structure.fileLines, perm_agg_dict[\"A\"])"
   ]
  },
  {
   "cell_type": "code",
   "execution_count": 15,
   "metadata": {},
   "outputs": [
    {
     "data": {
      "text/plain": [
       "True"
      ]
     },
     "execution_count": 15,
     "metadata": {},
     "output_type": "execute_result"
    }
   ],
   "source": [
    "FileHandler.writeLines(f'./data/{PERM_UNIPROT_ACCESION}_mapped_agg.pdb', perm_mapped_agg_file_lines)"
   ]
  },
  {
   "cell_type": "code",
   "execution_count": 16,
   "metadata": {},
   "outputs": [],
   "source": [
    "perm_pyfoldx_structure = PyFoldxStructure(PERM_UNIPROT_ACCESION, f'./data/{PERM_UNIPROT_ACCESION}_mapped_agg.pdb')"
   ]
  },
  {
   "cell_type": "code",
   "execution_count": 17,
   "metadata": {},
   "outputs": [
    {
     "name": "stdout",
     "output_type": "stream",
     "text": [
      "Performing Alanine Scan...\n",
      "cd ./.foldx_202471784613831428/; /home/leandro/Dropbox/raduspostdoc/code/foldxEnterprise/build/Release/foldx --command=AlaScan --pdb=tmp.pdb > /dev/null 2> /dev/null\n",
      "Alanine Scan finished.\n"
     ]
    }
   ],
   "source": [
    "perm_alascan_results = perm_pyfoldx_structure.alanineScan()"
   ]
  },
  {
   "cell_type": "code",
   "execution_count": 18,
   "metadata": {},
   "outputs": [
    {
     "data": {
      "text/html": [
       "<div>\n",
       "<style scoped>\n",
       "    .dataframe tbody tr th:only-of-type {\n",
       "        vertical-align: middle;\n",
       "    }\n",
       "\n",
       "    .dataframe tbody tr th {\n",
       "        vertical-align: top;\n",
       "    }\n",
       "\n",
       "    .dataframe thead th {\n",
       "        text-align: right;\n",
       "    }\n",
       "</style>\n",
       "<table border=\"1\" class=\"dataframe\">\n",
       "  <thead>\n",
       "    <tr style=\"text-align: right;\">\n",
       "      <th></th>\n",
       "      <th>ddG_ala</th>\n",
       "    </tr>\n",
       "    <tr>\n",
       "      <th>Residue</th>\n",
       "      <th></th>\n",
       "    </tr>\n",
       "  </thead>\n",
       "  <tbody>\n",
       "    <tr>\n",
       "      <th>MET_1</th>\n",
       "      <td>-0.0182932</td>\n",
       "    </tr>\n",
       "    <tr>\n",
       "      <th>GLY_2</th>\n",
       "      <td>3.18904</td>\n",
       "    </tr>\n",
       "    <tr>\n",
       "      <th>VAL_3</th>\n",
       "      <td>0.128108</td>\n",
       "    </tr>\n",
       "    <tr>\n",
       "      <th>PRO_4</th>\n",
       "      <td>-1.8469</td>\n",
       "    </tr>\n",
       "    <tr>\n",
       "      <th>PHE_5</th>\n",
       "      <td>-0.0133675</td>\n",
       "    </tr>\n",
       "    <tr>\n",
       "      <th>...</th>\n",
       "      <td>...</td>\n",
       "    </tr>\n",
       "    <tr>\n",
       "      <th>TRP_741</th>\n",
       "      <td>5.76942</td>\n",
       "    </tr>\n",
       "    <tr>\n",
       "      <th>ARG_742</th>\n",
       "      <td>-0.0577126</td>\n",
       "    </tr>\n",
       "    <tr>\n",
       "      <th>GLU_743</th>\n",
       "      <td>-1.29899</td>\n",
       "    </tr>\n",
       "    <tr>\n",
       "      <th>ALA_744</th>\n",
       "      <td>0</td>\n",
       "    </tr>\n",
       "    <tr>\n",
       "      <th>SER_745</th>\n",
       "      <td>-0.399032</td>\n",
       "    </tr>\n",
       "  </tbody>\n",
       "</table>\n",
       "<p>745 rows × 1 columns</p>\n",
       "</div>"
      ],
      "text/plain": [
       "            ddG_ala\n",
       "Residue            \n",
       "MET_1    -0.0182932\n",
       "GLY_2       3.18904\n",
       "VAL_3      0.128108\n",
       "PRO_4       -1.8469\n",
       "PHE_5    -0.0133675\n",
       "...             ...\n",
       "TRP_741     5.76942\n",
       "ARG_742  -0.0577126\n",
       "GLU_743    -1.29899\n",
       "ALA_744           0\n",
       "SER_745   -0.399032\n",
       "\n",
       "[745 rows x 1 columns]"
      ]
     },
     "execution_count": 18,
     "metadata": {},
     "output_type": "execute_result"
    }
   ],
   "source": [
    "perm_alascan_results"
   ]
  },
  {
   "cell_type": "code",
   "execution_count": 19,
   "metadata": {},
   "outputs": [],
   "source": [
    "# get a dict from the alascan results dataframe\n",
    "perm_alascan_dict = perm_alascan_results.to_dict()['ddG_ala']\n",
    "# Remove the res name and the underscore from the keys\n",
    "perm_alascan_dict = { k[4:] : v for k,v in perm_alascan_dict.items()} \n",
    "# Convert to float all the values, and normalize to a positive scale\n",
    "perm_alascan_dict = { k : float(v) for k,v in perm_alascan_dict.items()}\n",
    "# Round the values to 3 decimal places\n",
    "perm_alascan_dict = { k : round(v,3) for k,v in perm_alascan_dict.items()}\n",
    "perm_alascan_dict = { int(k) : str(v - min(perm_alascan_dict.values()))[0:5] for k,v in perm_alascan_dict.items()}\n"
   ]
  },
  {
   "cell_type": "code",
   "execution_count": 20,
   "metadata": {},
   "outputs": [],
   "source": [
    "perm_mapped_alascan_file_lines = pdbBfactor(perm_pdb_structure.fileLines, perm_alascan_dict)"
   ]
  },
  {
   "cell_type": "code",
   "execution_count": 21,
   "metadata": {},
   "outputs": [
    {
     "data": {
      "text/plain": [
       "True"
      ]
     },
     "execution_count": 21,
     "metadata": {},
     "output_type": "execute_result"
    }
   ],
   "source": [
    "FileHandler.writeLines(f'./data/{PERM_UNIPROT_ACCESION}_mapped_alascan.pdb', perm_mapped_alascan_file_lines)"
   ]
  },
  {
   "cell_type": "code",
   "execution_count": 22,
   "metadata": {},
   "outputs": [
    {
     "data": {
      "application/vnd.jupyter.widget-view+json": {
       "model_id": "3423c5b2e5fd4db9a99446dc80eee76c",
       "version_major": 2,
       "version_minor": 0
      },
      "text/plain": []
     },
     "metadata": {},
     "output_type": "display_data"
    },
    {
     "data": {
      "application/vnd.jupyter.widget-view+json": {
       "model_id": "aadd7259cd17497f98fe3d248d613481",
       "version_major": 2,
       "version_minor": 0
      },
      "text/plain": [
       "NGLWidget()"
      ]
     },
     "metadata": {},
     "output_type": "display_data"
    }
   ],
   "source": [
    "import nglview\n",
    "view = nglview.show_file(\"data/P05164_mapped_alascan.pdb\")\n",
    "view"
   ]
  },
  {
   "cell_type": "code",
   "execution_count": null,
   "metadata": {},
   "outputs": [],
   "source": []
  }
 ],
 "metadata": {
  "kernelspec": {
   "display_name": "Python 3",
   "language": "python",
   "name": "python3"
  },
  "language_info": {
   "codemirror_mode": {
    "name": "ipython",
    "version": 3
   },
   "file_extension": ".py",
   "mimetype": "text/x-python",
   "name": "python",
   "nbconvert_exporter": "python",
   "pygments_lexer": "ipython3",
   "version": "3.8.10"
  }
 },
 "nbformat": 4,
 "nbformat_minor": 2
}
