{
 "cells": [
  {
   "cell_type": "code",
   "execution_count": 1,
   "metadata": {},
   "outputs": [],
   "source": [
    "# Ignore warnings\n",
    "import warnings\n",
    "warnings.filterwarnings(\"ignore\")"
   ]
  },
  {
   "cell_type": "markdown",
   "metadata": {},
   "source": [
    "**Note**: This is a SBG workspace dependent code, it won't work in other manchines. Please contact Leandro Radusky if you want to install the dependencies and run this script by yourself.\n",
    "\n",
    "Tested in python 3.8\n"
   ]
  },
  {
   "cell_type": "markdown",
   "metadata": {},
   "source": [
    "# PERM analysis\n",
    "\n",
    "Sample pipeline to study the stability, aggregability and other structural features of PERM protein. To be discussed and then replicated on the other biomarkers."
   ]
  },
  {
   "cell_type": "code",
   "execution_count": 2,
   "metadata": {},
   "outputs": [],
   "source": [
    "# Import the sbg workspace\n",
    "import sys\n",
    "sys.path.append('/home/leandro/Dropbox/workspacesbg/sbg/')"
   ]
  },
  {
   "cell_type": "code",
   "execution_count": 3,
   "metadata": {},
   "outputs": [
    {
     "data": {
      "application/vnd.jupyter.widget-view+json": {
       "model_id": "45918dc7dade4f0e8cbfcc8abd673bcc",
       "version_major": 2,
       "version_minor": 0
      },
      "text/plain": []
     },
     "metadata": {},
     "output_type": "display_data"
    }
   ],
   "source": [
    "# Imports\n",
    "from sbg.scripts.foldx.TangoHandler import TangoHandler\n",
    "from sbg.structure.Structure import Structure\n",
    "from sbg.structure.AlphaFoldHandler import AlphaFoldHandler\n",
    "from sbg.orf.Orf import OnlineOrf\n",
    "from sbg.orf.FastaHandler import FastaHandler\n",
    "from sbg.pdbtools.pdb_bfactor import pdbBfactor\n",
    "from sbg.common.FileHandler import FileHandler\n",
    "\n",
    "from pyfoldx.structure import Structure as PyFoldxStructure\n",
    "\n",
    "from Bio import pairwise2\n",
    "from Bio.pairwise2 import format_alignment\n",
    "\n",
    "import nglview\n"
   ]
  },
  {
   "cell_type": "code",
   "execution_count": 4,
   "metadata": {},
   "outputs": [],
   "source": [
    "# Some constants\n",
    "PROTEIN_CODE = 'PERM'\n",
    "PERM_UNIPROT_ACCESION = 'P05164'\n",
    "MIMARK_ANTIGENS_SEQUENCES_PATH = './data/antigens.fasta'"
   ]
  },
  {
   "cell_type": "code",
   "execution_count": 5,
   "metadata": {},
   "outputs": [],
   "source": [
    "# Some functions\n",
    "\n",
    "def showProteinByBFactor(path):\n",
    "    view = nglview.show_file(path)\n",
    "    view.clear_representations()\n",
    "    view.add_representation('cartoon', selection='protein')\n",
    "    view.add_cartoon(selection=\"protein\", color_scheme=\"bfactor\")\n",
    "    return view"
   ]
  },
  {
   "cell_type": "markdown",
   "metadata": {},
   "source": [
    "## 1 - Compare the sequences of the MiMARK PERM antigen vs the UniProt entry\n",
    "\n",
    "As a first step we will compare the sequences of the reference PERM protein versus the one we're using on the lab, to see which are the main differences. "
   ]
  },
  {
   "cell_type": "code",
   "execution_count": 6,
   "metadata": {},
   "outputs": [],
   "source": [
    "# Get the uniprot object\n",
    "perm_up_obj = OnlineOrf(PERM_UNIPROT_ACCESION)"
   ]
  },
  {
   "cell_type": "code",
   "execution_count": 38,
   "metadata": {},
   "outputs": [],
   "source": [
    "# Get the uniprot sequence\n",
    "perm_up_seq = perm_up_obj.orf.sequence.text"
   ]
  },
  {
   "cell_type": "code",
   "execution_count": 8,
   "metadata": {},
   "outputs": [],
   "source": [
    "# Get the MiMARK antigen sequence\n",
    "fh = FastaHandler(MIMARK_ANTIGENS_SEQUENCES_PATH)"
   ]
  },
  {
   "cell_type": "code",
   "execution_count": 10,
   "metadata": {},
   "outputs": [],
   "source": [
    "# Align the two protein sequences using biopython pairwise2\n",
    "alignments = pairwise2.align.globalxx(perm_up_seq, fh.orfs['PERM'].seq)"
   ]
  },
  {
   "cell_type": "code",
   "execution_count": 11,
   "metadata": {},
   "outputs": [
    {
     "name": "stdout",
     "output_type": "stream",
     "text": [
      "PERM Uniprot vs PERM MiMARK\n",
      "********************************************\n",
      "\n",
      "UniProt ->  MG--VP-F----F--SSL---RCM-V---------------DL-G-------------------P---------------\n",
      "MiMARK  ->  M-KWV-TFISLLFLFSS-AYSR--GVFRREAHKSEIAHRFND-VGEEHFIGLVLITFSQYLQKAPYEEHAKLVKEVTDLA\n",
      "\n",
      "UniProt ->  --CW-AG---------------G-----L-----T----A---EMKL---------L--------L---A------L--A\n",
      "MiMARK  ->  KAC-VA-DESAANCDKSLHDIFGDKICALPSLRDTYGDVADCCE-K-KEPERNECFLHHKDDKPDLPPFARPEADVLCKA\n",
      "\n",
      "UniProt ->  ---------G--L--------------L---A-----IL-----A-------TPQP-------SEG-------A-A-PAV\n",
      "MiMARK  ->  FHDDEKAFFGHYLYEVARRHPYFYAPELLYYAQKYKAILTECCEAADKGACLT--PKLDGGGGS-GGGGSGGGASAAPAV\n",
      "\n",
      "UniProt ->  LGEVDTSLVLSSMEEAKQLVDKAYKERRESIKQRLRSGSASPMELLSYFKQPVAATRTAVRAADYLHVALDLLERKLRSL\n",
      "MiMARK  ->  LGEVDTSLVLSSMEEAKQLVDKAYKERRESIKQRLRSGSASPMELLSYFKQPVAATRTAVRAADYLHVALDLLERKLRSL\n",
      "\n",
      "UniProt ->  WRRPFNVTDVLTPAQLNVLSKSSGCAYQDVGVTCPEQDKYRTITGMCNNRRSPTLGASNRAFVRWLPAEYEDGFSLPYGW\n",
      "MiMARK  ->  WRRPFNVTDVLTPAQLNVLSKSSGCAYQDVGVTCPEQDKYRTITGMCNNRRSPTLGASNRAFVRWLPAEYEDGFSLPYGW\n",
      "\n",
      "UniProt ->  TPGVKRNGFPVALARAVSNEIVRFPTDQLTPDQERSLMFMQWGQLLDHDLDFTPEPAARASFVTGVNCETSCVQQPPCFP\n",
      "MiMARK  ->  TPGVKRNGFPVALARAVSNEIVRFPTDQLTPDQERSLMFMQWGQLLDHDLDFTPEPAARASFVTGVNCETSCVQQPPCFP\n",
      "\n",
      "UniProt ->  LKIPPNDPRIKNQADCIPFFRSCPACPGSNITIRNQINALTSFVDASMVYGSEEPLARNLRNMSNQLGLLAVNQRFQDNG\n",
      "MiMARK  ->  LKIPPNDPRIKNQADCIPFFRSCPACPGSNITIRNQINALTSFVDASMVYGSEEPLARNLRNMSNQLGLLAVNQRFQDNG\n",
      "\n",
      "UniProt ->  RALLPFDNLHDDPCLLTNRSARIPCFLAGDTRSSEMPELTSMHTLLLREHNRLATELKSLNPRWDGERLYQEARKIVGAM\n",
      "MiMARK  ->  RALLPFDNLHDDPCLLTNRSARIPCFLAGDTRSSEMPELTSMHTLLLREHNRLATELKSLNPRWDGERLYQEARKIVGAM\n",
      "\n",
      "UniProt ->  VQIITYRDYLPLVLGPTAMRKYLPTYRSYNDSVDPRIANVFTNAFRYGHTLIQPFMFRLDNRYQPMEPNPRVPLSRVFFA\n",
      "MiMARK  ->  VQIITYRDYLPLVLGPTAMRKYLPTYRSYNDSVDPRIANVFTNAFRYGHTLIQPFMFRLDNRYQPMEPNPRVPLSRVFFA\n",
      "\n",
      "UniProt ->  SWRVVLEGGIDPILRGLMATPAKLNRQNQIAVDEIRERLFEQVMRIGLDLPALNMQRSRDHGLPGYNAWRRFCGLPQPET\n",
      "MiMARK  ->  SWRVVLEGGIDPILRGLMATPAKLNRQNQIAVDEIRERLFEQVMRIGLDLPALNMQRSRDHGLPGYNAWRRFCGLPQPET\n",
      "\n",
      "UniProt ->  VGQLGTVLRNLKLARKLMEQYGTPNNIDIWMGGVSEPLKRKGRVGPLLACIIGTQFRKLRDGDRFWWENEGVFSMQQRQA\n",
      "MiMARK  ->  VGQLGTVLRNLKLARKLMEQYGTPNNIDIWMGGVSEPLKRKGRVGPLLACIIGTQFRKLRDGDRFWWENEGVFSMQQRQA\n",
      "\n",
      "UniProt ->  LAQISLPRIICDNTGITTVSKNNIFMSNSYPRDFVNCSTLPALNLASWREAS---------\n",
      "MiMARK  ->  LAQISLPRIICDNTGITTVSKNNIFMSNSYPRDFVNCSTLPALNLASWREASGSGHHHHHH\n",
      "\n"
     ]
    }
   ],
   "source": [
    "# Display the best alignment nicely, indicating at the begining which protein is which\n",
    "print('PERM Uniprot vs PERM MiMARK')\n",
    "print(\"********************************************\")\n",
    "print()\n",
    "# print the alignment in several lines, 80 positions per line\n",
    "for i in range(0, len(alignments[0][0]), 80):\n",
    "    print(f\"UniProt -> \", alignments[0][0][i:i+80])\n",
    "    print(f\"MiMARK  -> \", alignments[0][1][i:i+80])\n",
    "    print()"
   ]
  },
  {
   "cell_type": "markdown",
   "metadata": {},
   "source": [
    "Clearly, the longest match goes from PAVLGEVDT to PALNLASWREAS. The beginning of the two proteins are quite different, then the main region has total identity and the MiMARK antigen also presents a small poly histidine tag which is classical and does not represent any problem or suspicion."
   ]
  },
  {
   "cell_type": "code",
   "execution_count": 39,
   "metadata": {},
   "outputs": [
    {
     "name": "stdout",
     "output_type": "stream",
     "text": [
      "Uniprot match start: 50 Uniprot match end: 745\n"
     ]
    }
   ],
   "source": [
    "# Extract the Uniprot positions of this match for further structural analysis\n",
    "up_match_start = perm_up_seq.find('PAVLGEVDT')\n",
    "up_match_end = perm_up_seq.find('PALNLASWREAS') + len('PALNLASWREAS')\n",
    "\n",
    "print( f'Uniprot match start: {up_match_start} Uniprot match end: {up_match_end}')"
   ]
  },
  {
   "cell_type": "markdown",
   "metadata": {},
   "source": [
    "## 2 - Computing protein structure features\n",
    "\n",
    "After **manually** see the available structures for the PERM protein, I observed that all the structures represents the matched protein and that this is an enzime that functions in a monomerical fashion. When this is the scenario, we can rely on the AlphaFold model to have an \"average\" structure\" free of PTMs, crystalizations ligands, etc, which also containg the full sequence modelled."
   ]
  },
  {
   "cell_type": "code",
   "execution_count": 13,
   "metadata": {},
   "outputs": [],
   "source": [
    "perm_pdb_structure = AlphaFoldHandler.get_model(PERM_UNIPROT_ACCESION)\n",
    "perm_pdb_structure.savePDBFile(f'./data/{PERM_UNIPROT_ACCESION}_model.pdb')"
   ]
  },
  {
   "cell_type": "markdown",
   "metadata": {},
   "source": [
    "### 2.1 - The interest region\n",
    "\n",
    "In order to know which part of the model we're interested in, we will color the matching sequence of the reference and the antigen over the structure."
   ]
  },
  {
   "cell_type": "code",
   "execution_count": 14,
   "metadata": {},
   "outputs": [],
   "source": [
    "# Create a dict with zero bfactor for positions 50-745 and 1 for the other positions\n",
    "mod_dict = {i: '0.000' if i >= up_match_start and i <= up_match_end else '1.000' for i in range(1, len(perm_pdb_structure.residues[\"A\"])+1)}"
   ]
  },
  {
   "cell_type": "code",
   "execution_count": 15,
   "metadata": {},
   "outputs": [],
   "source": [
    "# Map the modelled \"score\" to the structure\n",
    "perm_mapped_mod_file_lines = pdbBfactor(perm_pdb_structure.fileLines, mod_dict)"
   ]
  },
  {
   "cell_type": "code",
   "execution_count": 16,
   "metadata": {},
   "outputs": [
    {
     "data": {
      "text/plain": [
       "True"
      ]
     },
     "execution_count": 16,
     "metadata": {},
     "output_type": "execute_result"
    }
   ],
   "source": [
    "# Write the mapped modelling scores to a file\n",
    "FileHandler.writeLines(f'./data/{PERM_UNIPROT_ACCESION}_mapped_mod.pdb', perm_mapped_mod_file_lines)"
   ]
  },
  {
   "cell_type": "code",
   "execution_count": 17,
   "metadata": {},
   "outputs": [
    {
     "data": {
      "application/vnd.jupyter.widget-view+json": {
       "model_id": "9e0a8cd570514e29a1eeb4d0dcf24963",
       "version_major": 2,
       "version_minor": 0
      },
      "text/plain": [
       "NGLWidget()"
      ]
     },
     "metadata": {},
     "output_type": "display_data"
    }
   ],
   "source": [
    "# Show the structure with the aggregation scores\n",
    "view = showProteinByBFactor(f'./data/{PERM_UNIPROT_ACCESION}_mapped_mod.pdb')\n",
    "view"
   ]
  },
  {
   "cell_type": "markdown",
   "metadata": {},
   "source": [
    "The region in red corresponds to the region of interest, the region in blue is different in our antigen and we will analyze it separately."
   ]
  },
  {
   "cell_type": "markdown",
   "metadata": {},
   "source": [
    "### 2.2 - the unmodelled region\n",
    "\n",
    "In order to obtain a model for the initial part of the sequence of our antigen that doesn't match with the reference protein I modelled **manually** using FoldSeek server. "
   ]
  },
  {
   "cell_type": "code",
   "execution_count": 18,
   "metadata": {},
   "outputs": [
    {
     "data": {
      "application/vnd.jupyter.widget-view+json": {
       "model_id": "21a941ad05144f5b92fc9f1781ce80c5",
       "version_major": 2,
       "version_minor": 0
      },
      "text/plain": [
       "NGLWidget()"
      ]
     },
     "metadata": {},
     "output_type": "display_data"
    }
   ],
   "source": [
    "# Show the structure with the aggregation scores\n",
    "view = showProteinByBFactor(f'./data/begin_seq_mimark_modelled.pdb')\n",
    "view"
   ]
  },
  {
   "cell_type": "markdown",
   "metadata": {},
   "source": [
    "Here, in blue, we see the sites with the highest modelling confidence in blue, and the regions with less confidence turning to the yellow/red. It appears to be a small globule attached **but separated** to the protein through a small disordered region. This is maybe used somehow during the antigen production?"
   ]
  },
  {
   "cell_type": "markdown",
   "metadata": {},
   "source": [
    "### 2.3 - Aggregablity propensity\n",
    "\n",
    "For our PERM sturcture, let's study the aggregability propensity. This was performed using Tango software. Shortly, it moves through the protein in a sliding window fashion (a window of 5-7 aminoacids) computing the propensity of this peptide to aggregate as if it will be isolated (not in the context of a protein). \n",
    "\n",
    "In a protein, we're interested on regions with high propensity that are exposed on the surface and then will favour the binding of other aggregating agents."
   ]
  },
  {
   "cell_type": "code",
   "execution_count": 19,
   "metadata": {},
   "outputs": [],
   "source": [
    "# Compute aggregability scores\n",
    "perm_agg_dict = TangoHandler.getAggregation(perm_pdb_structure,\"aggregation/\")"
   ]
  },
  {
   "cell_type": "code",
   "execution_count": 20,
   "metadata": {},
   "outputs": [],
   "source": [
    "# Map the aggregation scores to the structure\n",
    "perm_mapped_agg_file_lines = pdbBfactor(perm_pdb_structure.fileLines, perm_agg_dict[\"A\"])"
   ]
  },
  {
   "cell_type": "code",
   "execution_count": 21,
   "metadata": {},
   "outputs": [
    {
     "data": {
      "application/vnd.jupyter.widget-view+json": {
       "model_id": "79501023bd1c4501afecf7ad50f3f8f5",
       "version_major": 2,
       "version_minor": 0
      },
      "text/plain": [
       "NGLWidget()"
      ]
     },
     "metadata": {},
     "output_type": "display_data"
    }
   ],
   "source": [
    "# Write the mapped aggregation scores to a file\n",
    "FileHandler.writeLines(f'./data/{PERM_UNIPROT_ACCESION}_mapped_agg.pdb', perm_mapped_agg_file_lines)\n",
    "\n",
    "# Show the structure with the aggregation scores\n",
    "view = showProteinByBFactor(f'./data/{PERM_UNIPROT_ACCESION}_mapped_agg.pdb')\n",
    "view"
   ]
  },
  {
   "cell_type": "markdown",
   "metadata": {},
   "source": [
    "As we can observe, in our model, the only region **within** the interest region that has some aggregation propensity is buried in the hidrophobic core of the protein. This doesn't represent any aggregability risk. "
   ]
  },
  {
   "cell_type": "markdown",
   "metadata": {},
   "source": [
    "### 2.4 - Aggregablity propensity over the unmodelled region\n",
    "\n",
    "Let's repeat the analysis on the region which is unique on the MiMARK antigen."
   ]
  },
  {
   "cell_type": "code",
   "execution_count": 22,
   "metadata": {},
   "outputs": [],
   "source": [
    "# Unmodelled region structure object\n",
    "umr_st_obj = Structure(\"urm\", f'./data/begin_seq_mimark_modelled.pdb')\n",
    "\n",
    "# Compute aggregability scores\n",
    "umr_agg_dict = TangoHandler.getAggregation(umr_st_obj,\"aggregation/\")\n",
    "\n",
    "# Map the aggregation scores to the structure\n",
    "umr_mapped_agg_file_lines = pdbBfactor(umr_st_obj.fileLines, umr_agg_dict[\"A\"])"
   ]
  },
  {
   "cell_type": "code",
   "execution_count": 23,
   "metadata": {},
   "outputs": [
    {
     "data": {
      "application/vnd.jupyter.widget-view+json": {
       "model_id": "b2b53b3127f94d04bf7b8fcec2cd7847",
       "version_major": 2,
       "version_minor": 0
      },
      "text/plain": [
       "NGLWidget()"
      ]
     },
     "metadata": {},
     "output_type": "display_data"
    }
   ],
   "source": [
    "# Write the mapped aggregation scores to a file\n",
    "FileHandler.writeLines(f'./data/umr_mapped_agg.pdb', umr_mapped_agg_file_lines)\n",
    "\n",
    "# Show the structure with the aggregation scores\n",
    "view = showProteinByBFactor(f'./data/umr_mapped_agg.pdb')\n",
    "view"
   ]
  },
  {
   "cell_type": "markdown",
   "metadata": {},
   "source": [
    "Again, there are only two regions with some aggregability propensity: the N-terminal, which does not represent major risks, and a small region which has some exposition to the surface. "
   ]
  },
  {
   "cell_type": "markdown",
   "metadata": {},
   "source": [
    "### 2.5 - Residues Stability\n",
    "\n",
    "Now, let's study the residues stability. This analysis was performed using FoldX's AlaScan command. The obtained models were repaired using previously the RepairPDB command, which minimize the energy of the protein's side chains, without modifying the protein backbone. Running AlaScan computes the energetic changes produced by mutating each residue to Alanine (a \"neutral\" and \"minimal\" aminoacid). If, when mutated to alanine, the energy decrease, this means that the residue is \"not happy\" and it's provoking residue instabilities. On the other hand, when the energy increase, this means that the residue is \"tying\" the structure making bonds with other residues and changing them will make the proteins more unstable."
   ]
  },
  {
   "cell_type": "code",
   "execution_count": 24,
   "metadata": {},
   "outputs": [],
   "source": [
    "# This is costly, was executed once and the results saved into a file\n",
    "#perm_pyfoldx_structure = PyFoldxStructure(PERM_UNIPROT_ACCESION, f'./data/{PERM_UNIPROT_ACCESION}_mapped_agg.pdb')\n",
    "#perm_repair_results = perm_pyfoldx_structure.repair()\n",
    "#perm_repair_results.toPdbFile(f'./data/{PERM_UNIPROT_ACCESION}_repaired.pdb')"
   ]
  },
  {
   "cell_type": "code",
   "execution_count": 25,
   "metadata": {},
   "outputs": [],
   "source": [
    "perm_pyfoldx_structure = PyFoldxStructure(PERM_UNIPROT_ACCESION, f'./data/{PERM_UNIPROT_ACCESION}_repaired.pdb')"
   ]
  },
  {
   "cell_type": "code",
   "execution_count": 26,
   "metadata": {},
   "outputs": [
    {
     "name": "stdout",
     "output_type": "stream",
     "text": [
      "Performing Alanine Scan...\n",
      "cd ./.foldx_2024717163729976475/; /home/leandro/Dropbox/raduspostdoc/code/foldxEnterprise/build/Release/foldx --command=AlaScan --pdb=tmp.pdb > /dev/null 2> /dev/null\n",
      "Alanine Scan finished.\n"
     ]
    }
   ],
   "source": [
    "perm_alascan_results = perm_pyfoldx_structure.alanineScan()"
   ]
  },
  {
   "cell_type": "code",
   "execution_count": 76,
   "metadata": {},
   "outputs": [],
   "source": [
    "from math import log, exp\n",
    "# Some data transforming\n",
    "\n",
    "# get a dict from the alascan results dataframe\n",
    "perm_alascan_dict = perm_alascan_results.to_dict()['ddG_ala']\n",
    "# Remove the res name and the underscore from the keys\n",
    "perm_alascan_dict = { k[4:] : v for k,v in perm_alascan_dict.items()} \n",
    "# Convert to float all the values, and normalize to a positive scale\n",
    "perm_alascan_dict = { k : float(v) for k,v in perm_alascan_dict.items()}\n",
    "# Round the values to 3 decimal places\n",
    "perm_alascan_dict = { k : round(v,3) for k,v in perm_alascan_dict.items()}\n",
    "# Normalize to a 0-1 scale\n",
    "perm_alascan_dict = { k : (v - min(perm_alascan_dict.values())) / (max(perm_alascan_dict.values()) - min(perm_alascan_dict.values())) for k,v in perm_alascan_dict.items()}\n",
    "perm_alascan_dict = { int(k) : str(-log(v+0.01))[0:5] for k,v in perm_alascan_dict.items()}\n"
   ]
  },
  {
   "cell_type": "code",
   "execution_count": 77,
   "metadata": {},
   "outputs": [],
   "source": [
    "perm_mapped_alascan_file_lines = pdbBfactor(perm_pdb_structure.fileLines, perm_alascan_dict)"
   ]
  },
  {
   "cell_type": "code",
   "execution_count": 78,
   "metadata": {},
   "outputs": [
    {
     "data": {
      "text/plain": [
       "True"
      ]
     },
     "execution_count": 78,
     "metadata": {},
     "output_type": "execute_result"
    }
   ],
   "source": [
    "FileHandler.writeLines(f'./data/{PERM_UNIPROT_ACCESION}_mapped_alascan.pdb', perm_mapped_alascan_file_lines)"
   ]
  },
  {
   "cell_type": "code",
   "execution_count": 79,
   "metadata": {},
   "outputs": [
    {
     "data": {
      "application/vnd.jupyter.widget-view+json": {
       "model_id": "a777b41697a74b779f348c2981d7fbf8",
       "version_major": 2,
       "version_minor": 0
      },
      "text/plain": [
       "NGLWidget()"
      ]
     },
     "metadata": {},
     "output_type": "display_data"
    }
   ],
   "source": [
    "# Show the structure with the aggregation scores\n",
    "view = showProteinByBFactor(f'./data/{PERM_UNIPROT_ACCESION}_mapped_alascan.pdb')\n",
    "view"
   ]
  },
  {
   "cell_type": "markdown",
   "metadata": {},
   "source": [
    "Here we were expeting to find a blue buried region that could indicate some unstable region over the structure, the only one is on the sorrounding of HIS 261 and ARG 405. **These are the catalytic residues**, is normal that sorrounding residues are unhappy because this is when the reaction is happening and we cannot touch this!\n",
    "\n",
    "(source: Catalytic Site Atlas)"
   ]
  },
  {
   "cell_type": "markdown",
   "metadata": {},
   "source": [
    "### 2.6 - Residues Stability unmodelled region\n",
    "\n",
    "Let's repeat the analysis for the MiMARK N-terminal region."
   ]
  },
  {
   "cell_type": "code",
   "execution_count": 31,
   "metadata": {},
   "outputs": [],
   "source": [
    "# This is costly, was executed once and the results saved into a file\n",
    "#umr_pyfoldx_structure = PyFoldxStructure(\"umr\", f'./data/umr_mapped_agg.pdb')\n",
    "#umr_repair_results = umr_pyfoldx_structure.repair()\n",
    "#umr_repair_results.toPdbFile(f'./data/umr_repaired.pdb')"
   ]
  },
  {
   "cell_type": "code",
   "execution_count": 32,
   "metadata": {},
   "outputs": [
    {
     "name": "stdout",
     "output_type": "stream",
     "text": [
      "Performing Alanine Scan...\n",
      "cd ./.foldx_2024717163733433969/; /home/leandro/Dropbox/raduspostdoc/code/foldxEnterprise/build/Release/foldx --command=AlaScan --pdb=tmp.pdb > /dev/null 2> /dev/null\n",
      "Alanine Scan finished.\n"
     ]
    }
   ],
   "source": [
    "# Perform the alascan on the repaired structure\n",
    "umr_repaired_pyfoldx_structure = PyFoldxStructure(\"umr_repaired\", f'./data/umr_repaired.pdb')\n",
    "umr_repaired_alascan_results = umr_repaired_pyfoldx_structure.alanineScan()\n"
   ]
  },
  {
   "cell_type": "code",
   "execution_count": 80,
   "metadata": {},
   "outputs": [],
   "source": [
    "# Some data transforming\n",
    "\n",
    "# get a dict from the alascan results dataframe\n",
    "umr_repaired_alascan_dict = umr_repaired_alascan_results.to_dict()['ddG_ala']\n",
    "# Remove the res name and the underscore from the keys\n",
    "umr_repaired_alascan_dict = { k[4:] : v for k,v in umr_repaired_alascan_dict.items()} \n",
    "# Convert to float all the values, and normalize to a positive scale\n",
    "umr_repaired_alascan_dict = { k : float(v) for k,v in umr_repaired_alascan_dict.items()}\n",
    "# Round the values to 3 decimal places\n",
    "umr_repaired_alascan_dict = { k : round(v,3) for k,v in umr_repaired_alascan_dict.items()}\n",
    "\n",
    "# Normalize to a 0-1 scale\n",
    "umr_repaired_alascan_dict = { k : (v - min(umr_repaired_alascan_dict.values())) / (max(umr_repaired_alascan_dict.values()) - min(umr_repaired_alascan_dict.values())) for k,v in umr_repaired_alascan_dict.items()}\n",
    "# Transform to a logarithmic scale\n",
    "umr_repaired_alascan_dict = { k : -log(v+0.01) for k,v in umr_repaired_alascan_dict.items()}\n",
    "# Round to 3 decimal places\n",
    "umr_repaired_alascan_dict = { int(k) : str(round(v,3)) for k,v in umr_repaired_alascan_dict.items()}\n",
    "\n"
   ]
  },
  {
   "cell_type": "code",
   "execution_count": 81,
   "metadata": {},
   "outputs": [],
   "source": [
    "umr_repaired_mapped_alascan_file_lines = pdbBfactor(umr_st_obj.fileLines, umr_repaired_alascan_dict)"
   ]
  },
  {
   "cell_type": "code",
   "execution_count": 82,
   "metadata": {},
   "outputs": [
    {
     "data": {
      "text/plain": [
       "True"
      ]
     },
     "execution_count": 82,
     "metadata": {},
     "output_type": "execute_result"
    }
   ],
   "source": [
    "FileHandler.writeLines(f'./data/umr_repaired_mapped_alascan.pdb', umr_repaired_mapped_alascan_file_lines)"
   ]
  },
  {
   "cell_type": "code",
   "execution_count": 83,
   "metadata": {},
   "outputs": [
    {
     "data": {
      "application/vnd.jupyter.widget-view+json": {
       "model_id": "af200c0eec364fae9f16a7d1d45d2450",
       "version_major": 2,
       "version_minor": 0
      },
      "text/plain": [
       "NGLWidget()"
      ]
     },
     "metadata": {},
     "output_type": "display_data"
    }
   ],
   "source": [
    "# Show the structure with the stability scores\n",
    "view = showProteinByBFactor(f'./data/umr_repaired_mapped_alascan.pdb')\n",
    "view"
   ]
  },
  {
   "cell_type": "markdown",
   "metadata": {},
   "source": [
    "Here, there are 3 residues that are unhappy. One is a glycine, this is the only residue that is smaller than an alanine and then to acomodate for the extra atom could generate some unstability, so it's expected. And then there are the THR 50 and the ARG 168. \n",
    "\n",
    "For the ARG168 there is most probably a modelling problem, it cannot happily accomodate due to a loop modelled too close, but flexible in reality.\n",
    "\n",
    "For the THR 50, it is not happy becase the model does not contain waters and is a polar residue, favoring the alanine. \n",
    "\n",
    "None of them represents a problem."
   ]
  },
  {
   "cell_type": "markdown",
   "metadata": {},
   "source": [
    "# 3 - Summary and conclusions"
   ]
  },
  {
   "cell_type": "markdown",
   "metadata": {},
   "source": [
    "- The sequence of the antigen is perfectly aligned with the sequence of the PERM protein in the Uniprot database in the globular domain. \n",
    "- This domain does not present high aggregation propensity.\n",
    "- This domain also does not present high unstability scores.\n",
    "- The unmodelled region has a high aggregation propensity on a region that is partially exposed.\n",
    "- The unmodelled region has a high unstability score the same region that is partially exposed.\n",
    "\n",
    "There is weak structural evidence that the protein will aggregate or be unstable. For the region added by Qiagen, some improvement could be made on the stability and aggregability on a partially exposed alpha helix, but I don't know if it has some importance in the antigen production and can not be touched, and even if this region aggregates, the main domain of the protein will remain \"solid\" and the binding with the antibody shouldn't be affected in high degree.\n",
    "\n",
    ":(\n",
    "\n"
   ]
  }
 ],
 "metadata": {
  "kernelspec": {
   "display_name": "Python 3",
   "language": "python",
   "name": "python3"
  },
  "language_info": {
   "codemirror_mode": {
    "name": "ipython",
    "version": 3
   },
   "file_extension": ".py",
   "mimetype": "text/x-python",
   "name": "python",
   "nbconvert_exporter": "python",
   "pygments_lexer": "ipython3",
   "version": "3.8.10"
  }
 },
 "nbformat": 4,
 "nbformat_minor": 2
}
