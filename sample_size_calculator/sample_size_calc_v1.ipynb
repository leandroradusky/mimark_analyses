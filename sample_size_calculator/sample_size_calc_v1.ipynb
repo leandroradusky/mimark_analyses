{
 "cells": [
  {
   "cell_type": "code",
   "execution_count": 1,
   "metadata": {},
   "outputs": [],
   "source": [
    "# some packages to install\n",
    "# %pip install statsmodels scipy matplotlib numpy pandas seaborn scikit-learn"
   ]
  },
  {
   "cell_type": "markdown",
   "metadata": {},
   "source": [
    "# Sample size calculation\n",
    "\n",
    "Function to compute the sample size & some analyses to play around."
   ]
  },
  {
   "cell_type": "code",
   "execution_count": 2,
   "metadata": {},
   "outputs": [],
   "source": [
    "# Some imports, ignore this\n",
    "import statsmodels.api as sm\n",
    "from scipy.stats import norm\n",
    "import matplotlib.pyplot as plt\n",
    "import seaborn as sns"
   ]
  },
  {
   "cell_type": "markdown",
   "metadata": {},
   "source": [
    "*The* function to compute the sample size, this piece of code we should iterate: "
   ]
  },
  {
   "cell_type": "code",
   "execution_count": 3,
   "metadata": {},
   "outputs": [],
   "source": [
    "def wilson_sample_size_needed_with_prevalence(sensitivity, prevalence, confidence_level, wilson_lower_limit, discard_rate):\n",
    "    \"\"\"\n",
    "    Parameters:\n",
    "    sensitivity      : Desired sensitivity of the test.\n",
    "    prevalence       : Prevalence of the condition in the population.\n",
    "    confidence_level : Desired confidence level.\n",
    "    width            : Lower limit of the confidence interval.\n",
    "\n",
    "    Returns:\n",
    "    tuple: \n",
    "        - int: Estimated minimum sample size required for the total population.\n",
    "        - int: Expected number of useful positive cases, based on sensitivity and prevalence.\n",
    "    \"\"\"\n",
    "    z = norm.ppf((1 + confidence_level) / 2)  # Z-value for the specified confidence level\n",
    "    n = 10  # Very low initial guess for the number of total participants\n",
    "\n",
    "    while True:\n",
    "        n += 1 # Increase the sample size by 1\n",
    "        effective_sample_size = int(n * (1 - discard_rate))  # Adjust sample size for expected discards\n",
    "        expected_positives = int(effective_sample_size * prevalence) # Calculate the expected number of positive cases taking the prevalence into account\n",
    "        \n",
    "        if expected_positives == 0: \n",
    "            continue  # Skip if there are no expected positive cases \n",
    "        \n",
    "        # Calculate the Wilson score interval for the expected number of positive cases\n",
    "        interval = sm.stats.proportion_confint(int(expected_positives * sensitivity), \n",
    "                                               int(expected_positives), \n",
    "                                               alpha= 1-confidence_level, \n",
    "                                               method='wilson')\n",
    "        \n",
    "        # Check if the lower limit of the interval is greater than the desired lower limit\n",
    "        if interval[0] > wilson_lower_limit:\n",
    "            break\n",
    "\n",
    "        if n > 50000: \n",
    "            raise ValueError(\"Sample size is too large. Please check your input values.\")\n",
    "\n",
    "    useful_positives = int(n * prevalence * sensitivity)  # Calculate the expected number of useful positive cases\n",
    "    return n, useful_positives\n"
   ]
  },
  {
   "cell_type": "markdown",
   "metadata": {},
   "source": [
    "## Playing around with the parameters\n",
    "\n",
    "Some parameters, taken from the analyzed documents:"
   ]
  },
  {
   "cell_type": "code",
   "execution_count": 4,
   "metadata": {},
   "outputs": [],
   "source": [
    "desired_sensitivity = 0.97\n",
    "prevalence = 0.10\n",
    "desired_confidence_level = 0.95\n",
    "wilson_ci_lower_limit = 0.90\n",
    "discard_rate = 0.00"
   ]
  },
  {
   "cell_type": "markdown",
   "metadata": {},
   "source": [
    "We call the function:"
   ]
  },
  {
   "cell_type": "code",
   "execution_count": 5,
   "metadata": {},
   "outputs": [],
   "source": [
    "total_sample_size, useful_positive_cases = wilson_sample_size_needed_with_prevalence(desired_sensitivity, \n",
    "                                                                                     prevalence, \n",
    "                                                                                     desired_confidence_level, \n",
    "                                                                                     wilson_ci_lower_limit, \n",
    "                                                                                     discard_rate)"
   ]
  },
  {
   "cell_type": "code",
   "execution_count": 6,
   "metadata": {},
   "outputs": [
    {
     "name": "stdout",
     "output_type": "stream",
     "text": [
      "Estimated minimum total sample size needed: <h1>840</h1>\n",
      "Expected number of useful positive cases: <h1>81</h1>\n"
     ]
    }
   ],
   "source": [
    "# We print the results\n",
    "print(f\"Estimated minimum total sample size needed: <h1>{total_sample_size}</h1>\")\n",
    "print(f\"Expected number of useful positive cases: <h1>{useful_positive_cases}</h1>\")"
   ]
  },
  {
   "cell_type": "markdown",
   "metadata": {},
   "source": [
    "As you can see, the obtained numbers are *around* the once you computed, but not the same ones.  "
   ]
  },
  {
   "cell_type": "markdown",
   "metadata": {},
   "source": [
    "## Adding 10% discards\n",
    "\n",
    "Same as before but considering discarded data"
   ]
  },
  {
   "cell_type": "code",
   "execution_count": 7,
   "metadata": {},
   "outputs": [],
   "source": [
    "discard_rate = 0.10"
   ]
  },
  {
   "cell_type": "code",
   "execution_count": 8,
   "metadata": {},
   "outputs": [],
   "source": [
    "total_sample_size, useful_positive_cases = wilson_sample_size_needed_with_prevalence(desired_sensitivity, \n",
    "                                                                                     prevalence, \n",
    "                                                                                     desired_confidence_level, \n",
    "                                                                                     wilson_ci_lower_limit, \n",
    "                                                                                     discard_rate)"
   ]
  },
  {
   "cell_type": "code",
   "execution_count": 9,
   "metadata": {},
   "outputs": [
    {
     "name": "stdout",
     "output_type": "stream",
     "text": [
      "Estimated minimum total sample size needed: 934\n",
      "Expected number of useful positive cases: 90\n"
     ]
    }
   ],
   "source": [
    "print(f\"Estimated minimum total sample size needed: {total_sample_size}\")\n",
    "print(f\"Expected number of useful positive cases: {useful_positive_cases}\")"
   ]
  },
  {
   "cell_type": "markdown",
   "metadata": {},
   "source": [
    "Again, similar numbers but not the same ones you computed. "
   ]
  },
  {
   "cell_type": "markdown",
   "metadata": {},
   "source": [
    "## Considering risks & benefits\n",
    "\n",
    "In order to consider how the sample size changes depending on being applied before of after cell inspection (the mentioned 30%), the function is the same one, the only thing to change is the prevalence (i.e. 30% benefited with the dx of the 10% prevalence = 3% \"final\" prevalence). "
   ]
  },
  {
   "cell_type": "code",
   "execution_count": 10,
   "metadata": {},
   "outputs": [],
   "source": [
    "# Standard values\n",
    "desired_sensitivity = 0.97\n",
    "prevalence = 0.10\n",
    "desired_confidence_level = 0.95\n",
    "wilson_ci_lower_limit = 0.90\n",
    "discard_rate = 0.10"
   ]
  },
  {
   "cell_type": "code",
   "execution_count": 11,
   "metadata": {},
   "outputs": [
    {
     "ename": "ValueError",
     "evalue": "Sample size is too large. Please check your input values.",
     "output_type": "error",
     "traceback": [
      "\u001b[0;31m---------------------------------------------------------------------------\u001b[0m",
      "\u001b[0;31mValueError\u001b[0m                                Traceback (most recent call last)",
      "\u001b[1;32m/home/leandro/Insync/gdrive/Mimark/code/mimark_analyses/sample_size_calculator/sample_size_calc_v1.ipynb Cell 19\u001b[0m line \u001b[0;36m6\n\u001b[1;32m      <a href='vscode-notebook-cell:/home/leandro/Insync/gdrive/Mimark/code/mimark_analyses/sample_size_calculator/sample_size_calc_v1.ipynb#X24sZmlsZQ%3D%3D?line=2'>3</a>\u001b[0m \u001b[39mfor\u001b[39;00m p \u001b[39min\u001b[39;00m \u001b[39mrange\u001b[39m(\u001b[39m9\u001b[39m,\u001b[39m101\u001b[39m):\n\u001b[1;32m      <a href='vscode-notebook-cell:/home/leandro/Insync/gdrive/Mimark/code/mimark_analyses/sample_size_calculator/sample_size_calc_v1.ipynb#X24sZmlsZQ%3D%3D?line=3'>4</a>\u001b[0m     final_prevalence \u001b[39m=\u001b[39m prevalence \u001b[39m*\u001b[39m (p\u001b[39m/\u001b[39m\u001b[39m100\u001b[39m)\n\u001b[0;32m----> <a href='vscode-notebook-cell:/home/leandro/Insync/gdrive/Mimark/code/mimark_analyses/sample_size_calculator/sample_size_calc_v1.ipynb#X24sZmlsZQ%3D%3D?line=5'>6</a>\u001b[0m     total_sample_size, useful_positive_cases \u001b[39m=\u001b[39m wilson_sample_size_needed_with_prevalence(desired_sensitivity, \n\u001b[1;32m      <a href='vscode-notebook-cell:/home/leandro/Insync/gdrive/Mimark/code/mimark_analyses/sample_size_calculator/sample_size_calc_v1.ipynb#X24sZmlsZQ%3D%3D?line=6'>7</a>\u001b[0m                                                                                          final_prevalence, \n\u001b[1;32m      <a href='vscode-notebook-cell:/home/leandro/Insync/gdrive/Mimark/code/mimark_analyses/sample_size_calculator/sample_size_calc_v1.ipynb#X24sZmlsZQ%3D%3D?line=7'>8</a>\u001b[0m                                                                                          desired_confidence_level, \n\u001b[1;32m      <a href='vscode-notebook-cell:/home/leandro/Insync/gdrive/Mimark/code/mimark_analyses/sample_size_calculator/sample_size_calc_v1.ipynb#X24sZmlsZQ%3D%3D?line=8'>9</a>\u001b[0m                                                                                          wilson_ci_lower_limit, \n\u001b[1;32m     <a href='vscode-notebook-cell:/home/leandro/Insync/gdrive/Mimark/code/mimark_analyses/sample_size_calculator/sample_size_calc_v1.ipynb#X24sZmlsZQ%3D%3D?line=9'>10</a>\u001b[0m                                                                                          discard_rate)\n\u001b[1;32m     <a href='vscode-notebook-cell:/home/leandro/Insync/gdrive/Mimark/code/mimark_analyses/sample_size_calculator/sample_size_calc_v1.ipynb#X24sZmlsZQ%3D%3D?line=11'>12</a>\u001b[0m     sample_sizes\u001b[39m.\u001b[39mappend(total_sample_size)\n\u001b[1;32m     <a href='vscode-notebook-cell:/home/leandro/Insync/gdrive/Mimark/code/mimark_analyses/sample_size_calculator/sample_size_calc_v1.ipynb#X24sZmlsZQ%3D%3D?line=12'>13</a>\u001b[0m     useful_positives\u001b[39m.\u001b[39mappend(useful_positive_cases)\n",
      "\u001b[1;32m/home/leandro/Insync/gdrive/Mimark/code/mimark_analyses/sample_size_calculator/sample_size_calc_v1.ipynb Cell 19\u001b[0m line \u001b[0;36m3\n\u001b[1;32m     <a href='vscode-notebook-cell:/home/leandro/Insync/gdrive/Mimark/code/mimark_analyses/sample_size_calculator/sample_size_calc_v1.ipynb#X24sZmlsZQ%3D%3D?line=32'>33</a>\u001b[0m         \u001b[39mbreak\u001b[39;00m\n\u001b[1;32m     <a href='vscode-notebook-cell:/home/leandro/Insync/gdrive/Mimark/code/mimark_analyses/sample_size_calculator/sample_size_calc_v1.ipynb#X24sZmlsZQ%3D%3D?line=34'>35</a>\u001b[0m     \u001b[39mif\u001b[39;00m n \u001b[39m>\u001b[39m \u001b[39m10000\u001b[39m: \n\u001b[0;32m---> <a href='vscode-notebook-cell:/home/leandro/Insync/gdrive/Mimark/code/mimark_analyses/sample_size_calculator/sample_size_calc_v1.ipynb#X24sZmlsZQ%3D%3D?line=35'>36</a>\u001b[0m         \u001b[39mraise\u001b[39;00m \u001b[39mValueError\u001b[39;00m(\u001b[39m\"\u001b[39m\u001b[39mSample size is too large. Please check your input values.\u001b[39m\u001b[39m\"\u001b[39m)\n\u001b[1;32m     <a href='vscode-notebook-cell:/home/leandro/Insync/gdrive/Mimark/code/mimark_analyses/sample_size_calculator/sample_size_calc_v1.ipynb#X24sZmlsZQ%3D%3D?line=37'>38</a>\u001b[0m useful_positives \u001b[39m=\u001b[39m \u001b[39mint\u001b[39m(n \u001b[39m*\u001b[39m prevalence \u001b[39m*\u001b[39m sensitivity)  \u001b[39m# Calculate the expected number of useful positive cases\u001b[39;00m\n\u001b[1;32m     <a href='vscode-notebook-cell:/home/leandro/Insync/gdrive/Mimark/code/mimark_analyses/sample_size_calculator/sample_size_calc_v1.ipynb#X24sZmlsZQ%3D%3D?line=38'>39</a>\u001b[0m \u001b[39mreturn\u001b[39;00m n, useful_positives\n",
      "\u001b[0;31mValueError\u001b[0m: Sample size is too large. Please check your input values."
     ]
    }
   ],
   "source": [
    "sample_sizes = []\n",
    "useful_positives = []\n",
    "for p in range(9,101):\n",
    "    final_prevalence = prevalence * (p/100)\n",
    "\n",
    "    total_sample_size, useful_positive_cases = wilson_sample_size_needed_with_prevalence(desired_sensitivity, \n",
    "                                                                                         final_prevalence, \n",
    "                                                                                         desired_confidence_level, \n",
    "                                                                                         wilson_ci_lower_limit, \n",
    "                                                                                         discard_rate)\n",
    "\n",
    "    sample_sizes.append(total_sample_size)\n",
    "    useful_positives.append(useful_positive_cases)\n"
   ]
  },
  {
   "cell_type": "code",
   "execution_count": null,
   "metadata": {},
   "outputs": [
    {
     "data": {
      "image/png": "[encoded data removed]",
      "text/plain": [
       "<Figure size 1200x600 with 1 Axes>"
      ]
     },
     "metadata": {},
     "output_type": "display_data"
    }
   ],
   "source": [
    "# Plot the results\n",
    "sns.set_style(\"whitegrid\")\n",
    "\n",
    "plt.figure(figsize=(12, 6))\n",
    "plt.plot(range(9,101), sample_sizes, label=\"Total Sample Size\")\n",
    "plt.xlabel(\"% of beneficial cases over on the 10% prevalence\")\n",
    "plt.ylabel(\"Sample Size\")\n",
    "\n",
    "plt.legend()\n",
    "plt.show()"
   ]
  },
  {
   "cell_type": "code",
   "execution_count": null,
   "metadata": {},
   "outputs": [],
   "source": []
  }
 ],
 "metadata": {
  "kernelspec": {
   "display_name": "Python 3",
   "language": "python",
   "name": "python3"
  },
  "language_info": {
   "codemirror_mode": {
    "name": "ipython",
    "version": 3
   },
   "file_extension": ".py",
   "mimetype": "text/x-python",
   "name": "python",
   "nbconvert_exporter": "python",
   "pygments_lexer": "ipython3",
   "version": "3.12.3"
  }
 },
 "nbformat": 4,
 "nbformat_minor": 2
}
