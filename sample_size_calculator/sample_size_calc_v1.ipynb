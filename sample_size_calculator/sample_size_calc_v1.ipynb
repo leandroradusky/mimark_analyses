{
 "cells": [
  {
   "cell_type": "markdown",
   "metadata": {},
   "source": [
    "# Sample size calculation\n",
    "\n",
    "Function to compute the sample size & some analyses to play around."
   ]
  },
  {
   "cell_type": "code",
   "execution_count": 1,
   "metadata": {},
   "outputs": [],
   "source": [
    "# Some imports, ignore this\n",
    "import statsmodels.api as sm\n",
    "from scipy.stats import norm"
   ]
  },
  {
   "cell_type": "markdown",
   "metadata": {},
   "source": [
    "*The* function to compute the sample size, this piece of code we should iterate: "
   ]
  },
  {
   "cell_type": "code",
   "execution_count": 2,
   "metadata": {},
   "outputs": [],
   "source": [
    "def wilson_sample_size_needed_with_prevalence(sensitivity, prevalence, confidence_level, wilson_lower_limit, discard_rate):\n",
    "    \"\"\"\n",
    "    Parameters:\n",
    "    sensitivity      : Desired sensitivity of the test.\n",
    "    prevalence       : Prevalence of the condition in the population.\n",
    "    confidence_level : Desired confidence level.\n",
    "    width            : Lower limit of the confidence interval.\n",
    "\n",
    "    Returns:\n",
    "    tuple: \n",
    "        - int: Estimated minimum sample size required for the total population.\n",
    "        - int: Expected number of useful positive cases, based on sensitivity and prevalence.\n",
    "    \"\"\"\n",
    "    z = norm.ppf((1 + confidence_level) / 2)  # Z-value for the specified confidence level\n",
    "    n = 10  # Very low initial guess for the number of total participants\n",
    "\n",
    "    while True:\n",
    "        n += 1 # Increase the sample size by 1\n",
    "        effective_sample_size = int(n * (1 - discard_rate))  # Adjust sample size for expected discards\n",
    "        expected_positives = int(effective_sample_size * prevalence) # Calculate the expected number of positive cases taking the prevalence into account\n",
    "        \n",
    "        if expected_positives == 0: \n",
    "            continue  # Skip if there are no expected positive cases \n",
    "        \n",
    "        # Calculate the Wilson score interval for the expected number of positive cases\n",
    "        interval = sm.stats.proportion_confint(int(expected_positives * sensitivity), \n",
    "                                               int(expected_positives), \n",
    "                                               alpha= 1-confidence_level, \n",
    "                                               method='wilson')\n",
    "        \n",
    "        # Check if the lower limit of the interval is greater than the desired lower limit\n",
    "        if interval[0] > wilson_lower_limit:\n",
    "            break\n",
    "\n",
    "        if n > 10000: \n",
    "            raise ValueError(\"Sample size is too large. Please check your input values.\")\n",
    "\n",
    "    useful_positives = int(n * prevalence * sensitivity)  # Calculate the expected number of useful positive cases\n",
    "    return n, useful_positives\n"
   ]
  },
  {
   "cell_type": "markdown",
   "metadata": {},
   "source": [
    "## Playing around with the parameters\n",
    "\n",
    "Some parameters, taken from the analyzed documents:"
   ]
  },
  {
   "cell_type": "code",
   "execution_count": 3,
   "metadata": {},
   "outputs": [],
   "source": [
    "desired_sensitivity = 0.97\n",
    "prevalence = 0.10\n",
    "desired_confidence_level = 0.95\n",
    "wilson_ci_lower_limit = 0.90\n",
    "discard_rate = 0.00"
   ]
  },
  {
   "cell_type": "markdown",
   "metadata": {},
   "source": [
    "We call the function:"
   ]
  },
  {
   "cell_type": "code",
   "execution_count": 4,
   "metadata": {},
   "outputs": [],
   "source": [
    "total_sample_size, useful_positive_cases = wilson_sample_size_needed_with_prevalence(desired_sensitivity, \n",
    "                                                                                     prevalence, \n",
    "                                                                                     desired_confidence_level, \n",
    "                                                                                     wilson_ci_lower_limit, \n",
    "                                                                                     discard_rate)"
   ]
  },
  {
   "cell_type": "code",
   "execution_count": 5,
   "metadata": {},
   "outputs": [
    {
     "name": "stdout",
     "output_type": "stream",
     "text": [
      "Estimated minimum total sample size needed: 840\n",
      "Expected number of useful positive cases: 81\n"
     ]
    }
   ],
   "source": [
    "# We print the results\n",
    "print(f\"Estimated minimum total sample size needed: {total_sample_size}\")\n",
    "print(f\"Expected number of useful positive cases: {useful_positive_cases}\")"
   ]
  },
  {
   "cell_type": "markdown",
   "metadata": {},
   "source": [
    "As you can see, the obtained numbers are *around* the once you computed, but not the same ones.  "
   ]
  },
  {
   "cell_type": "markdown",
   "metadata": {},
   "source": [
    "## Adding 10% discards\n",
    "\n",
    "Same as before but considering discarded data"
   ]
  },
  {
   "cell_type": "code",
   "execution_count": 6,
   "metadata": {},
   "outputs": [],
   "source": [
    "discard_rate = 0.10"
   ]
  },
  {
   "cell_type": "code",
   "execution_count": 7,
   "metadata": {},
   "outputs": [],
   "source": [
    "total_sample_size, useful_positive_cases = wilson_sample_size_needed_with_prevalence(desired_sensitivity, \n",
    "                                                                                     prevalence, \n",
    "                                                                                     desired_confidence_level, \n",
    "                                                                                     wilson_ci_lower_limit, \n",
    "                                                                                     discard_rate)"
   ]
  },
  {
   "cell_type": "code",
   "execution_count": 8,
   "metadata": {},
   "outputs": [
    {
     "name": "stdout",
     "output_type": "stream",
     "text": [
      "Estimated minimum total sample size needed: 934\n",
      "Expected number of useful positive cases: 90\n"
     ]
    }
   ],
   "source": [
    "print(f\"Estimated minimum total sample size needed: {total_sample_size}\")\n",
    "print(f\"Expected number of useful positive cases: {useful_positive_cases}\")"
   ]
  },
  {
   "cell_type": "markdown",
   "metadata": {},
   "source": [
    "Again, similar numbers but not the same ones you computed. "
   ]
  },
  {
   "cell_type": "markdown",
   "metadata": {},
   "source": []
  },
  {
   "cell_type": "code",
   "execution_count": null,
   "metadata": {},
   "outputs": [],
   "source": []
  }
 ],
 "metadata": {
  "kernelspec": {
   "display_name": "Python 3",
   "language": "python",
   "name": "python3"
  },
  "language_info": {
   "codemirror_mode": {
    "name": "ipython",
    "version": 3
   },
   "file_extension": ".py",
   "mimetype": "text/x-python",
   "name": "python",
   "nbconvert_exporter": "python",
   "pygments_lexer": "ipython3",
   "version": "3.12.3"
  }
 },
 "nbformat": 4,
 "nbformat_minor": 2
}
